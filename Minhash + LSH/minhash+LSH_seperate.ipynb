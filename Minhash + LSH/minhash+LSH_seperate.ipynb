{
 "cells": [
  {
   "cell_type": "code",
   "execution_count": 1,
   "metadata": {},
   "outputs": [],
   "source": [
    "import numpy as np\n",
    "import pandas as pd\n",
    "import time\n",
    "from datasketch import MinHash, MinHashLSHForest\n",
    "from collections import Counter"
   ]
  },
  {
   "cell_type": "markdown",
   "metadata": {},
   "source": [
    "#### Minhash + LSH to find similar users"
   ]
  },
  {
   "cell_type": "code",
   "execution_count": 2,
   "metadata": {},
   "outputs": [],
   "source": [
    "# minhash each user's data separatedly and then aggregate\n",
    "\n",
    "def minhash_for_one_user(movie_names, num_permutations, seed):\n",
    "    # Set seed for the permutations to ensure consistent comparison across users\n",
    "    m = MinHash(num_perm=num_permutations, seed = seed)\n",
    "    for movie_name in movie_names:\n",
    "            m.update(movie_name.encode('utf8'))\n",
    "    return m\n",
    "\n",
    "def aggregate_minhashes(data, num_permutations, seed):\n",
    "     start_time = time.time()\n",
    "     minhashes = []\n",
    "     # Aggregate all users' minhashes\n",
    "     for movie_names in data['title']:\n",
    "         one_user_minhash = minhash_for_one_user(movie_names, num_permutations, seed)\n",
    "         minhashes.append(one_user_minhash)\n",
    "\n",
    "     print('It took %s seconds to create the minhashes for all users and aggregate them.' %(time.time()-start_time))\n",
    "    \n",
    "     return minhashes\n",
    "     \n",
    "def get_lsh_forest(data, num_permutations, seed):\n",
    "    start_time = time.time()\n",
    "    \n",
    "    minhashes = aggregate_minhashes(data, num_permutations, seed)\n",
    "    # Use the LSH Forest algorithm for efficient search of neighbours\n",
    "    # Build a forest of all the MinHashed strings\n",
    "    forest = MinHashLSHForest(num_perm=num_permutations)\n",
    " \n",
    "    for i, minmash in enumerate(minhashes):\n",
    "        forest.add(i, minmash)\n",
    "\n",
    "    # Index the forest to make it searchable      \n",
    "    forest.index()\n",
    "\n",
    "    print('It took %s seconds to build forest.' %(time.time()-start_time))\n",
    "    \n",
    "    return forest"
   ]
  },
  {
   "cell_type": "code",
   "execution_count": 30,
   "metadata": {},
   "outputs": [],
   "source": [
    "def predict(rated_movies, database, num_permutations, seed, num_results, forest):\n",
    "    start_time = time.time()\n",
    "    \n",
    "    # The test user \n",
    "    m = MinHash(num_perm=num_permutations, seed=seed)\n",
    "    for movie_name in rated_movies:\n",
    "        m.update(movie_name.encode('utf8'))\n",
    "        \n",
    "    idx_array = np.array(forest.query(m, num_results))\n",
    "    if len(idx_array) == 0:\n",
    "        print('\\n We couldn not find similar users to your favourite movies. \\n')\n",
    "        return None\n",
    "    \n",
    "    similar_users = database.iloc[idx_array].reset_index(drop=True)[['userId', 'title']]\n",
    "    \n",
    "    print('It took %s seconds to query forest.' % (time.time() - start_time))\n",
    "    \n",
    "    return similar_users"
   ]
  },
  {
   "cell_type": "code",
   "execution_count": 1,
   "metadata": {},
   "outputs": [
    {
     "name": "stdout",
     "output_type": "stream",
     "text": [
      "     userId                                              title\n",
      "0         1  [Dangerous Minds (1995), Dumbo (1941), Sleeper...\n",
      "1         2  [GoldenEye (1995), Sense and Sensibility (1995...\n",
      "2         3  [Braveheart (1995), Pulp Fiction (1994), Forre...\n",
      "3         4  [Star Trek: The Motion Picture (1979), French ...\n",
      "4         5  [Antz (1998), Clueless (1995), Apollo 13 (1995...\n",
      "..      ...                                                ...\n",
      "666     667  [Sense and Sensibility (1995), Braveheart (199...\n",
      "667     668  [Pulp Fiction (1994), Silence of the Lambs, Th...\n",
      "668     669  [French Connection, The (1971), Clerks (1994),...\n",
      "669     670  [Seven (a.k.a. Se7en) (1995), Usual Suspects, ...\n",
      "670     671  [Blazing Saddles (1974), Usual Suspects, The (...\n",
      "\n",
      "[671 rows x 2 columns]\n"
     ]
    }
   ],
   "source": [
    "import pandas as pd\n",
    "from datasketch import MinHash, MinHashLSHForest\n",
    "\n",
    "# Load ratings data\n",
    "ratings_data = pd.read_csv(\"/Users/yushiyang/desktop/RecSys-Materials/ml-latest-small/ratings.csv\")  # Replace with your file path\n",
    "\n",
    "# Load movies data\n",
    "movies_data = pd.read_csv(\"/Users/yushiyang/desktop/RecSys-Materials/ml-latest-small/movies.csv\")  # Replace with your file path\n",
    "\n",
    "# Merge ratings and movies data to get movie names for each user\n",
    "data = ratings_data.merge(movies_data, on='movieId')\n",
    "\n",
    "# Group movie names by user\n",
    "grouped_data = data.groupby('userId')['title'].apply(list).reset_index()\n",
    "\n",
    "print(grouped_data)"
   ]
  },
  {
   "cell_type": "code",
   "execution_count": 4,
   "metadata": {},
   "outputs": [],
   "source": [
    "num_permutations = 256\n",
    "num_recommendations = 10\n",
    "my_seed = 1000"
   ]
  },
  {
   "cell_type": "code",
   "execution_count": 5,
   "metadata": {},
   "outputs": [
    {
     "name": "stdout",
     "output_type": "stream",
     "text": [
      "It took 0.863814115524292 seconds to create the minhashes for all users and aggregate them.\n",
      "[<datasketch.minhash.MinHash object at 0x132674050>, <datasketch.minhash.MinHash object at 0x10ebe7e10>, <datasketch.minhash.MinHash object at 0x10d637350>, <datasketch.minhash.MinHash object at 0x132676550>, <datasketch.minhash.MinHash object at 0x132750c10>, <datasketch.minhash.MinHash object at 0x132824350>, <datasketch.minhash.MinHash object at 0x132824390>, <datasketch.minhash.MinHash object at 0x1328242d0>, <datasketch.minhash.MinHash object at 0x132824410>, <datasketch.minhash.MinHash object at 0x10e7388d0>, <datasketch.minhash.MinHash object at 0x132824110>, <datasketch.minhash.MinHash object at 0x132824450>, <datasketch.minhash.MinHash object at 0x1328244d0>, <datasketch.minhash.MinHash object at 0x132824510>, <datasketch.minhash.MinHash object at 0x1328243d0>, <datasketch.minhash.MinHash object at 0x10dd64f90>, <datasketch.minhash.MinHash object at 0x132824550>, <datasketch.minhash.MinHash object at 0x132824590>, <datasketch.minhash.MinHash object at 0x132824490>, <datasketch.minhash.MinHash object at 0x132824610>, <datasketch.minhash.MinHash object at 0x132824650>, <datasketch.minhash.MinHash object at 0x132824690>, <datasketch.minhash.MinHash object at 0x1328246d0>, <datasketch.minhash.MinHash object at 0x1325775d0>, <datasketch.minhash.MinHash object at 0x10fb0dad0>, <datasketch.minhash.MinHash object at 0x132824790>, <datasketch.minhash.MinHash object at 0x1328247d0>, <datasketch.minhash.MinHash object at 0x132824850>, <datasketch.minhash.MinHash object at 0x132824950>, <datasketch.minhash.MinHash object at 0x1328249d0>, <datasketch.minhash.MinHash object at 0x132824a50>, <datasketch.minhash.MinHash object at 0x132824ad0>, <datasketch.minhash.MinHash object at 0x132824b50>, <datasketch.minhash.MinHash object at 0x132824bd0>, <datasketch.minhash.MinHash object at 0x132824c50>, <datasketch.minhash.MinHash object at 0x132824cd0>, <datasketch.minhash.MinHash object at 0x132824d50>, <datasketch.minhash.MinHash object at 0x132824dd0>, <datasketch.minhash.MinHash object at 0x132824e50>, <datasketch.minhash.MinHash object at 0x132824ed0>, <datasketch.minhash.MinHash object at 0x132824f50>, <datasketch.minhash.MinHash object at 0x132824fd0>, <datasketch.minhash.MinHash object at 0x132825050>, <datasketch.minhash.MinHash object at 0x1328250d0>, <datasketch.minhash.MinHash object at 0x132825150>, <datasketch.minhash.MinHash object at 0x1328251d0>, <datasketch.minhash.MinHash object at 0x132825250>, <datasketch.minhash.MinHash object at 0x1328252d0>, <datasketch.minhash.MinHash object at 0x132825350>, <datasketch.minhash.MinHash object at 0x1328253d0>, <datasketch.minhash.MinHash object at 0x132825450>, <datasketch.minhash.MinHash object at 0x1328254d0>, <datasketch.minhash.MinHash object at 0x132825550>, <datasketch.minhash.MinHash object at 0x10b7f7c90>, <datasketch.minhash.MinHash object at 0x132825590>, <datasketch.minhash.MinHash object at 0x1328256d0>, <datasketch.minhash.MinHash object at 0x132825750>, <datasketch.minhash.MinHash object at 0x1328257d0>, <datasketch.minhash.MinHash object at 0x132825890>, <datasketch.minhash.MinHash object at 0x132825910>, <datasketch.minhash.MinHash object at 0x132825990>, <datasketch.minhash.MinHash object at 0x132825a10>, <datasketch.minhash.MinHash object at 0x132825a90>, <datasketch.minhash.MinHash object at 0x132825b10>, <datasketch.minhash.MinHash object at 0x132825b90>, <datasketch.minhash.MinHash object at 0x132825c10>, <datasketch.minhash.MinHash object at 0x132825c90>, <datasketch.minhash.MinHash object at 0x132825d10>, <datasketch.minhash.MinHash object at 0x132825d90>, <datasketch.minhash.MinHash object at 0x132825e10>, <datasketch.minhash.MinHash object at 0x132825e90>, <datasketch.minhash.MinHash object at 0x132825f10>, <datasketch.minhash.MinHash object at 0x132825f90>, <datasketch.minhash.MinHash object at 0x132826010>, <datasketch.minhash.MinHash object at 0x132826090>, <datasketch.minhash.MinHash object at 0x132826110>, <datasketch.minhash.MinHash object at 0x132826190>, <datasketch.minhash.MinHash object at 0x132826210>, <datasketch.minhash.MinHash object at 0x132826290>, <datasketch.minhash.MinHash object at 0x132826310>, <datasketch.minhash.MinHash object at 0x132826390>, <datasketch.minhash.MinHash object at 0x132826410>, <datasketch.minhash.MinHash object at 0x132826490>, <datasketch.minhash.MinHash object at 0x132826510>, <datasketch.minhash.MinHash object at 0x132826590>, <datasketch.minhash.MinHash object at 0x132826610>, <datasketch.minhash.MinHash object at 0x132826690>, <datasketch.minhash.MinHash object at 0x132826710>, <datasketch.minhash.MinHash object at 0x132826790>, <datasketch.minhash.MinHash object at 0x132826810>, <datasketch.minhash.MinHash object at 0x132826890>, <datasketch.minhash.MinHash object at 0x132826910>, <datasketch.minhash.MinHash object at 0x132826990>, <datasketch.minhash.MinHash object at 0x132826a10>, <datasketch.minhash.MinHash object at 0x132826a90>, <datasketch.minhash.MinHash object at 0x132826b10>, <datasketch.minhash.MinHash object at 0x132826b90>, <datasketch.minhash.MinHash object at 0x132826c10>, <datasketch.minhash.MinHash object at 0x132826c90>, <datasketch.minhash.MinHash object at 0x132826d10>, <datasketch.minhash.MinHash object at 0x132826d90>, <datasketch.minhash.MinHash object at 0x132826e10>, <datasketch.minhash.MinHash object at 0x132826e90>, <datasketch.minhash.MinHash object at 0x132826f10>, <datasketch.minhash.MinHash object at 0x132826f90>, <datasketch.minhash.MinHash object at 0x132827010>, <datasketch.minhash.MinHash object at 0x132827090>, <datasketch.minhash.MinHash object at 0x132827110>, <datasketch.minhash.MinHash object at 0x132827190>, <datasketch.minhash.MinHash object at 0x132827210>, <datasketch.minhash.MinHash object at 0x132827290>, <datasketch.minhash.MinHash object at 0x132827310>, <datasketch.minhash.MinHash object at 0x132827390>, <datasketch.minhash.MinHash object at 0x132827410>, <datasketch.minhash.MinHash object at 0x132827490>, <datasketch.minhash.MinHash object at 0x132827510>, <datasketch.minhash.MinHash object at 0x132827590>, <datasketch.minhash.MinHash object at 0x132827610>, <datasketch.minhash.MinHash object at 0x132827690>, <datasketch.minhash.MinHash object at 0x132827710>, <datasketch.minhash.MinHash object at 0x132827790>, <datasketch.minhash.MinHash object at 0x132827810>, <datasketch.minhash.MinHash object at 0x132827890>, <datasketch.minhash.MinHash object at 0x132827910>, <datasketch.minhash.MinHash object at 0x132827990>, <datasketch.minhash.MinHash object at 0x132827a10>, <datasketch.minhash.MinHash object at 0x132827a90>, <datasketch.minhash.MinHash object at 0x132827b10>, <datasketch.minhash.MinHash object at 0x132827b90>, <datasketch.minhash.MinHash object at 0x132827c10>, <datasketch.minhash.MinHash object at 0x132827c90>, <datasketch.minhash.MinHash object at 0x132827d10>, <datasketch.minhash.MinHash object at 0x132827d90>, <datasketch.minhash.MinHash object at 0x132827e10>, <datasketch.minhash.MinHash object at 0x132827e90>, <datasketch.minhash.MinHash object at 0x132827f10>, <datasketch.minhash.MinHash object at 0x132827f90>, <datasketch.minhash.MinHash object at 0x132827fd0>, <datasketch.minhash.MinHash object at 0x132838090>, <datasketch.minhash.MinHash object at 0x132838150>, <datasketch.minhash.MinHash object at 0x1328381d0>, <datasketch.minhash.MinHash object at 0x132838250>, <datasketch.minhash.MinHash object at 0x1328382d0>, <datasketch.minhash.MinHash object at 0x132838350>, <datasketch.minhash.MinHash object at 0x1328383d0>, <datasketch.minhash.MinHash object at 0x132838450>, <datasketch.minhash.MinHash object at 0x1328384d0>, <datasketch.minhash.MinHash object at 0x132838550>, <datasketch.minhash.MinHash object at 0x1328385d0>, <datasketch.minhash.MinHash object at 0x132838650>, <datasketch.minhash.MinHash object at 0x1328386d0>, <datasketch.minhash.MinHash object at 0x132838750>, <datasketch.minhash.MinHash object at 0x1328387d0>, <datasketch.minhash.MinHash object at 0x132838850>, <datasketch.minhash.MinHash object at 0x1328388d0>, <datasketch.minhash.MinHash object at 0x132838950>, <datasketch.minhash.MinHash object at 0x1328389d0>, <datasketch.minhash.MinHash object at 0x132838a50>, <datasketch.minhash.MinHash object at 0x132838ad0>, <datasketch.minhash.MinHash object at 0x132838b50>, <datasketch.minhash.MinHash object at 0x132838bd0>, <datasketch.minhash.MinHash object at 0x132838c50>, <datasketch.minhash.MinHash object at 0x132838cd0>, <datasketch.minhash.MinHash object at 0x132838d50>, <datasketch.minhash.MinHash object at 0x132838dd0>, <datasketch.minhash.MinHash object at 0x132838e50>, <datasketch.minhash.MinHash object at 0x132838ed0>, <datasketch.minhash.MinHash object at 0x132838f50>, <datasketch.minhash.MinHash object at 0x132838fd0>, <datasketch.minhash.MinHash object at 0x132839050>, <datasketch.minhash.MinHash object at 0x1328390d0>, <datasketch.minhash.MinHash object at 0x132839150>, <datasketch.minhash.MinHash object at 0x1328391d0>, <datasketch.minhash.MinHash object at 0x132839250>, <datasketch.minhash.MinHash object at 0x1328392d0>, <datasketch.minhash.MinHash object at 0x132839350>, <datasketch.minhash.MinHash object at 0x1328393d0>, <datasketch.minhash.MinHash object at 0x132839450>, <datasketch.minhash.MinHash object at 0x1328394d0>, <datasketch.minhash.MinHash object at 0x132839550>, <datasketch.minhash.MinHash object at 0x1328395d0>, <datasketch.minhash.MinHash object at 0x132839650>, <datasketch.minhash.MinHash object at 0x1328396d0>, <datasketch.minhash.MinHash object at 0x132839750>, <datasketch.minhash.MinHash object at 0x1328397d0>, <datasketch.minhash.MinHash object at 0x132839850>, <datasketch.minhash.MinHash object at 0x1328398d0>, <datasketch.minhash.MinHash object at 0x132839950>, <datasketch.minhash.MinHash object at 0x1328399d0>, <datasketch.minhash.MinHash object at 0x132839a50>, <datasketch.minhash.MinHash object at 0x132839ad0>, <datasketch.minhash.MinHash object at 0x132839b50>, <datasketch.minhash.MinHash object at 0x132839bd0>, <datasketch.minhash.MinHash object at 0x132839c50>, <datasketch.minhash.MinHash object at 0x132839cd0>, <datasketch.minhash.MinHash object at 0x132839d50>, <datasketch.minhash.MinHash object at 0x132839dd0>, <datasketch.minhash.MinHash object at 0x132839e50>, <datasketch.minhash.MinHash object at 0x132839ed0>, <datasketch.minhash.MinHash object at 0x132839f50>, <datasketch.minhash.MinHash object at 0x132839fd0>, <datasketch.minhash.MinHash object at 0x13283a050>, <datasketch.minhash.MinHash object at 0x13283a0d0>, <datasketch.minhash.MinHash object at 0x13283a150>, <datasketch.minhash.MinHash object at 0x13283a1d0>, <datasketch.minhash.MinHash object at 0x13283a250>, <datasketch.minhash.MinHash object at 0x13283a2d0>, <datasketch.minhash.MinHash object at 0x13283a350>, <datasketch.minhash.MinHash object at 0x13283a3d0>, <datasketch.minhash.MinHash object at 0x13283a450>, <datasketch.minhash.MinHash object at 0x13283a4d0>, <datasketch.minhash.MinHash object at 0x13283a550>, <datasketch.minhash.MinHash object at 0x13283a5d0>, <datasketch.minhash.MinHash object at 0x13283a650>, <datasketch.minhash.MinHash object at 0x13283a6d0>, <datasketch.minhash.MinHash object at 0x13283a750>, <datasketch.minhash.MinHash object at 0x13283a7d0>, <datasketch.minhash.MinHash object at 0x13283a850>, <datasketch.minhash.MinHash object at 0x13283a8d0>, <datasketch.minhash.MinHash object at 0x13283a950>, <datasketch.minhash.MinHash object at 0x13283a9d0>, <datasketch.minhash.MinHash object at 0x13283aa50>, <datasketch.minhash.MinHash object at 0x13283aad0>, <datasketch.minhash.MinHash object at 0x13283ab50>, <datasketch.minhash.MinHash object at 0x13283abd0>, <datasketch.minhash.MinHash object at 0x13283ac50>, <datasketch.minhash.MinHash object at 0x13283acd0>, <datasketch.minhash.MinHash object at 0x13283ad50>, <datasketch.minhash.MinHash object at 0x13283add0>, <datasketch.minhash.MinHash object at 0x13283ae50>, <datasketch.minhash.MinHash object at 0x13283aed0>, <datasketch.minhash.MinHash object at 0x13283af50>, <datasketch.minhash.MinHash object at 0x13283afd0>, <datasketch.minhash.MinHash object at 0x13283b050>, <datasketch.minhash.MinHash object at 0x13283b0d0>, <datasketch.minhash.MinHash object at 0x13283b150>, <datasketch.minhash.MinHash object at 0x13283b1d0>, <datasketch.minhash.MinHash object at 0x13283b250>, <datasketch.minhash.MinHash object at 0x13283b2d0>, <datasketch.minhash.MinHash object at 0x13283b350>, <datasketch.minhash.MinHash object at 0x13283b3d0>, <datasketch.minhash.MinHash object at 0x13283b450>, <datasketch.minhash.MinHash object at 0x13283b4d0>, <datasketch.minhash.MinHash object at 0x13283b550>, <datasketch.minhash.MinHash object at 0x13283b5d0>, <datasketch.minhash.MinHash object at 0x13283b650>, <datasketch.minhash.MinHash object at 0x13283b6d0>, <datasketch.minhash.MinHash object at 0x13283b750>, <datasketch.minhash.MinHash object at 0x13283b7d0>, <datasketch.minhash.MinHash object at 0x13283b850>, <datasketch.minhash.MinHash object at 0x13283b8d0>, <datasketch.minhash.MinHash object at 0x13283b950>, <datasketch.minhash.MinHash object at 0x13283b9d0>, <datasketch.minhash.MinHash object at 0x13283ba50>, <datasketch.minhash.MinHash object at 0x13283bad0>, <datasketch.minhash.MinHash object at 0x13283bb50>, <datasketch.minhash.MinHash object at 0x13283bbd0>, <datasketch.minhash.MinHash object at 0x13283bc50>, <datasketch.minhash.MinHash object at 0x13283bcd0>, <datasketch.minhash.MinHash object at 0x13283bd50>, <datasketch.minhash.MinHash object at 0x13283bdd0>, <datasketch.minhash.MinHash object at 0x13283be50>, <datasketch.minhash.MinHash object at 0x13283bed0>, <datasketch.minhash.MinHash object at 0x13283bf50>, <datasketch.minhash.MinHash object at 0x13283bfd0>, <datasketch.minhash.MinHash object at 0x132844050>, <datasketch.minhash.MinHash object at 0x132844110>, <datasketch.minhash.MinHash object at 0x132844190>, <datasketch.minhash.MinHash object at 0x132844210>, <datasketch.minhash.MinHash object at 0x132844290>, <datasketch.minhash.MinHash object at 0x132844310>, <datasketch.minhash.MinHash object at 0x132844390>, <datasketch.minhash.MinHash object at 0x132844410>, <datasketch.minhash.MinHash object at 0x132844490>, <datasketch.minhash.MinHash object at 0x132844510>, <datasketch.minhash.MinHash object at 0x132844590>, <datasketch.minhash.MinHash object at 0x132844610>, <datasketch.minhash.MinHash object at 0x132844690>, <datasketch.minhash.MinHash object at 0x132844710>, <datasketch.minhash.MinHash object at 0x132844790>, <datasketch.minhash.MinHash object at 0x132844810>, <datasketch.minhash.MinHash object at 0x132844890>, <datasketch.minhash.MinHash object at 0x132844910>, <datasketch.minhash.MinHash object at 0x132844990>, <datasketch.minhash.MinHash object at 0x132844a10>, <datasketch.minhash.MinHash object at 0x132844a90>, <datasketch.minhash.MinHash object at 0x132844b10>, <datasketch.minhash.MinHash object at 0x132844b90>, <datasketch.minhash.MinHash object at 0x132844c10>, <datasketch.minhash.MinHash object at 0x132844c90>, <datasketch.minhash.MinHash object at 0x132844d10>, <datasketch.minhash.MinHash object at 0x132844d90>, <datasketch.minhash.MinHash object at 0x132844e10>, <datasketch.minhash.MinHash object at 0x132844e90>, <datasketch.minhash.MinHash object at 0x132844f10>, <datasketch.minhash.MinHash object at 0x132844f90>, <datasketch.minhash.MinHash object at 0x132845010>, <datasketch.minhash.MinHash object at 0x132845090>, <datasketch.minhash.MinHash object at 0x132845110>, <datasketch.minhash.MinHash object at 0x132845190>, <datasketch.minhash.MinHash object at 0x132845210>, <datasketch.minhash.MinHash object at 0x132845290>, <datasketch.minhash.MinHash object at 0x132845310>, <datasketch.minhash.MinHash object at 0x132845390>, <datasketch.minhash.MinHash object at 0x132845410>, <datasketch.minhash.MinHash object at 0x132845490>, <datasketch.minhash.MinHash object at 0x132845510>, <datasketch.minhash.MinHash object at 0x132845590>, <datasketch.minhash.MinHash object at 0x132845610>, <datasketch.minhash.MinHash object at 0x132845690>, <datasketch.minhash.MinHash object at 0x132845710>, <datasketch.minhash.MinHash object at 0x132845790>, <datasketch.minhash.MinHash object at 0x132845810>, <datasketch.minhash.MinHash object at 0x132845890>, <datasketch.minhash.MinHash object at 0x132845910>, <datasketch.minhash.MinHash object at 0x132845990>, <datasketch.minhash.MinHash object at 0x132845a10>, <datasketch.minhash.MinHash object at 0x132845a90>, <datasketch.minhash.MinHash object at 0x132845b10>, <datasketch.minhash.MinHash object at 0x132845b90>, <datasketch.minhash.MinHash object at 0x132845c10>, <datasketch.minhash.MinHash object at 0x132845c90>, <datasketch.minhash.MinHash object at 0x132845d10>, <datasketch.minhash.MinHash object at 0x132845d90>, <datasketch.minhash.MinHash object at 0x132845e10>, <datasketch.minhash.MinHash object at 0x132845e90>, <datasketch.minhash.MinHash object at 0x132845f10>, <datasketch.minhash.MinHash object at 0x132845f90>, <datasketch.minhash.MinHash object at 0x132846010>, <datasketch.minhash.MinHash object at 0x132846090>, <datasketch.minhash.MinHash object at 0x132846110>, <datasketch.minhash.MinHash object at 0x132846190>, <datasketch.minhash.MinHash object at 0x132846210>, <datasketch.minhash.MinHash object at 0x132846290>, <datasketch.minhash.MinHash object at 0x132846310>, <datasketch.minhash.MinHash object at 0x132846390>, <datasketch.minhash.MinHash object at 0x132846410>, <datasketch.minhash.MinHash object at 0x132846490>, <datasketch.minhash.MinHash object at 0x132846510>, <datasketch.minhash.MinHash object at 0x132846590>, <datasketch.minhash.MinHash object at 0x132846610>, <datasketch.minhash.MinHash object at 0x132846690>, <datasketch.minhash.MinHash object at 0x132846710>, <datasketch.minhash.MinHash object at 0x132846790>, <datasketch.minhash.MinHash object at 0x132846810>, <datasketch.minhash.MinHash object at 0x132846890>, <datasketch.minhash.MinHash object at 0x132846910>, <datasketch.minhash.MinHash object at 0x132846990>, <datasketch.minhash.MinHash object at 0x132846a10>, <datasketch.minhash.MinHash object at 0x132846a90>, <datasketch.minhash.MinHash object at 0x132846b10>, <datasketch.minhash.MinHash object at 0x132846b90>, <datasketch.minhash.MinHash object at 0x132846c10>, <datasketch.minhash.MinHash object at 0x132846c90>, <datasketch.minhash.MinHash object at 0x132846d10>, <datasketch.minhash.MinHash object at 0x132846d90>, <datasketch.minhash.MinHash object at 0x132846e10>, <datasketch.minhash.MinHash object at 0x132846e90>, <datasketch.minhash.MinHash object at 0x132846f10>, <datasketch.minhash.MinHash object at 0x132846f90>, <datasketch.minhash.MinHash object at 0x132847010>, <datasketch.minhash.MinHash object at 0x132847090>, <datasketch.minhash.MinHash object at 0x132847110>, <datasketch.minhash.MinHash object at 0x132847190>, <datasketch.minhash.MinHash object at 0x132847210>, <datasketch.minhash.MinHash object at 0x132847290>, <datasketch.minhash.MinHash object at 0x132847310>, <datasketch.minhash.MinHash object at 0x132847390>, <datasketch.minhash.MinHash object at 0x132847410>, <datasketch.minhash.MinHash object at 0x132847490>, <datasketch.minhash.MinHash object at 0x132847510>, <datasketch.minhash.MinHash object at 0x132847590>, <datasketch.minhash.MinHash object at 0x132847610>, <datasketch.minhash.MinHash object at 0x132847690>, <datasketch.minhash.MinHash object at 0x132847710>, <datasketch.minhash.MinHash object at 0x132847790>, <datasketch.minhash.MinHash object at 0x132847810>, <datasketch.minhash.MinHash object at 0x132847890>, <datasketch.minhash.MinHash object at 0x132847910>, <datasketch.minhash.MinHash object at 0x132847990>, <datasketch.minhash.MinHash object at 0x132847a10>, <datasketch.minhash.MinHash object at 0x132847a90>, <datasketch.minhash.MinHash object at 0x132847b10>, <datasketch.minhash.MinHash object at 0x132847b90>, <datasketch.minhash.MinHash object at 0x132847c10>, <datasketch.minhash.MinHash object at 0x132847c90>, <datasketch.minhash.MinHash object at 0x132847d10>, <datasketch.minhash.MinHash object at 0x132847d90>, <datasketch.minhash.MinHash object at 0x132847e10>, <datasketch.minhash.MinHash object at 0x132847e90>, <datasketch.minhash.MinHash object at 0x132847f10>, <datasketch.minhash.MinHash object at 0x132847f90>, <datasketch.minhash.MinHash object at 0x132847fd0>, <datasketch.minhash.MinHash object at 0x13284c090>, <datasketch.minhash.MinHash object at 0x13284c150>, <datasketch.minhash.MinHash object at 0x13284c1d0>, <datasketch.minhash.MinHash object at 0x13284c250>, <datasketch.minhash.MinHash object at 0x13284c2d0>, <datasketch.minhash.MinHash object at 0x13284c350>, <datasketch.minhash.MinHash object at 0x13284c3d0>, <datasketch.minhash.MinHash object at 0x13284c450>, <datasketch.minhash.MinHash object at 0x13284c4d0>, <datasketch.minhash.MinHash object at 0x13284c550>, <datasketch.minhash.MinHash object at 0x13284c5d0>, <datasketch.minhash.MinHash object at 0x13284c650>, <datasketch.minhash.MinHash object at 0x13284c6d0>, <datasketch.minhash.MinHash object at 0x13284c750>, <datasketch.minhash.MinHash object at 0x13284c7d0>, <datasketch.minhash.MinHash object at 0x13284c850>, <datasketch.minhash.MinHash object at 0x13284c8d0>, <datasketch.minhash.MinHash object at 0x13284c950>, <datasketch.minhash.MinHash object at 0x13284c9d0>, <datasketch.minhash.MinHash object at 0x13284ca50>, <datasketch.minhash.MinHash object at 0x13284cad0>, <datasketch.minhash.MinHash object at 0x13284cb50>, <datasketch.minhash.MinHash object at 0x13284cbd0>, <datasketch.minhash.MinHash object at 0x13284cc50>, <datasketch.minhash.MinHash object at 0x13284ccd0>, <datasketch.minhash.MinHash object at 0x13284cd50>, <datasketch.minhash.MinHash object at 0x13284cdd0>, <datasketch.minhash.MinHash object at 0x13284ce50>, <datasketch.minhash.MinHash object at 0x13284ced0>, <datasketch.minhash.MinHash object at 0x13284cf50>, <datasketch.minhash.MinHash object at 0x13284cfd0>, <datasketch.minhash.MinHash object at 0x13284d050>, <datasketch.minhash.MinHash object at 0x13284d0d0>, <datasketch.minhash.MinHash object at 0x13284d150>, <datasketch.minhash.MinHash object at 0x13284d1d0>, <datasketch.minhash.MinHash object at 0x13284d250>, <datasketch.minhash.MinHash object at 0x13284d2d0>, <datasketch.minhash.MinHash object at 0x13284d350>, <datasketch.minhash.MinHash object at 0x13284d3d0>, <datasketch.minhash.MinHash object at 0x13284d450>, <datasketch.minhash.MinHash object at 0x13284d4d0>, <datasketch.minhash.MinHash object at 0x13284d550>, <datasketch.minhash.MinHash object at 0x13284d5d0>, <datasketch.minhash.MinHash object at 0x13284d650>, <datasketch.minhash.MinHash object at 0x13284d6d0>, <datasketch.minhash.MinHash object at 0x13284d750>, <datasketch.minhash.MinHash object at 0x13284d7d0>, <datasketch.minhash.MinHash object at 0x13284d850>, <datasketch.minhash.MinHash object at 0x13284d8d0>, <datasketch.minhash.MinHash object at 0x13284d950>, <datasketch.minhash.MinHash object at 0x13284d9d0>, <datasketch.minhash.MinHash object at 0x13284da50>, <datasketch.minhash.MinHash object at 0x13284dad0>, <datasketch.minhash.MinHash object at 0x13284db50>, <datasketch.minhash.MinHash object at 0x13284dbd0>, <datasketch.minhash.MinHash object at 0x13284dc50>, <datasketch.minhash.MinHash object at 0x13284dcd0>, <datasketch.minhash.MinHash object at 0x13284dd50>, <datasketch.minhash.MinHash object at 0x13284ddd0>, <datasketch.minhash.MinHash object at 0x13284de50>, <datasketch.minhash.MinHash object at 0x13284ded0>, <datasketch.minhash.MinHash object at 0x13284df50>, <datasketch.minhash.MinHash object at 0x13284dfd0>, <datasketch.minhash.MinHash object at 0x13284e050>, <datasketch.minhash.MinHash object at 0x13284e0d0>, <datasketch.minhash.MinHash object at 0x13284e150>, <datasketch.minhash.MinHash object at 0x13284e1d0>, <datasketch.minhash.MinHash object at 0x13284e250>, <datasketch.minhash.MinHash object at 0x13284e2d0>, <datasketch.minhash.MinHash object at 0x13284e350>, <datasketch.minhash.MinHash object at 0x13284e3d0>, <datasketch.minhash.MinHash object at 0x13284e450>, <datasketch.minhash.MinHash object at 0x13284e4d0>, <datasketch.minhash.MinHash object at 0x13284e550>, <datasketch.minhash.MinHash object at 0x13284e5d0>, <datasketch.minhash.MinHash object at 0x13284e650>, <datasketch.minhash.MinHash object at 0x13284e6d0>, <datasketch.minhash.MinHash object at 0x13284e750>, <datasketch.minhash.MinHash object at 0x13284e7d0>, <datasketch.minhash.MinHash object at 0x13284e850>, <datasketch.minhash.MinHash object at 0x13284e8d0>, <datasketch.minhash.MinHash object at 0x13284e950>, <datasketch.minhash.MinHash object at 0x13284e9d0>, <datasketch.minhash.MinHash object at 0x13284ea50>, <datasketch.minhash.MinHash object at 0x13284ead0>, <datasketch.minhash.MinHash object at 0x13284eb50>, <datasketch.minhash.MinHash object at 0x13284ebd0>, <datasketch.minhash.MinHash object at 0x13284ec50>, <datasketch.minhash.MinHash object at 0x13284ecd0>, <datasketch.minhash.MinHash object at 0x13284ed50>, <datasketch.minhash.MinHash object at 0x13284edd0>, <datasketch.minhash.MinHash object at 0x13284ee50>, <datasketch.minhash.MinHash object at 0x13284eed0>, <datasketch.minhash.MinHash object at 0x13284ef50>, <datasketch.minhash.MinHash object at 0x13284efd0>, <datasketch.minhash.MinHash object at 0x13284f050>, <datasketch.minhash.MinHash object at 0x13284f0d0>, <datasketch.minhash.MinHash object at 0x13284f150>, <datasketch.minhash.MinHash object at 0x13284f1d0>, <datasketch.minhash.MinHash object at 0x13284f250>, <datasketch.minhash.MinHash object at 0x13284f2d0>, <datasketch.minhash.MinHash object at 0x13284f350>, <datasketch.minhash.MinHash object at 0x13284f3d0>, <datasketch.minhash.MinHash object at 0x13284f450>, <datasketch.minhash.MinHash object at 0x13284f4d0>, <datasketch.minhash.MinHash object at 0x13284f550>, <datasketch.minhash.MinHash object at 0x13284f5d0>, <datasketch.minhash.MinHash object at 0x13284f650>, <datasketch.minhash.MinHash object at 0x13284f6d0>, <datasketch.minhash.MinHash object at 0x13284f750>, <datasketch.minhash.MinHash object at 0x13284f7d0>, <datasketch.minhash.MinHash object at 0x13284f850>, <datasketch.minhash.MinHash object at 0x13284f8d0>, <datasketch.minhash.MinHash object at 0x13284f950>, <datasketch.minhash.MinHash object at 0x13284f9d0>, <datasketch.minhash.MinHash object at 0x13284fa50>, <datasketch.minhash.MinHash object at 0x13284fad0>, <datasketch.minhash.MinHash object at 0x13284fb50>, <datasketch.minhash.MinHash object at 0x13284fbd0>, <datasketch.minhash.MinHash object at 0x13284fc50>, <datasketch.minhash.MinHash object at 0x13284fcd0>, <datasketch.minhash.MinHash object at 0x13284fd50>, <datasketch.minhash.MinHash object at 0x13284fdd0>, <datasketch.minhash.MinHash object at 0x13284fe50>, <datasketch.minhash.MinHash object at 0x13284fed0>, <datasketch.minhash.MinHash object at 0x13284ff50>, <datasketch.minhash.MinHash object at 0x13284ffd0>, <datasketch.minhash.MinHash object at 0x13285c050>, <datasketch.minhash.MinHash object at 0x13285c110>, <datasketch.minhash.MinHash object at 0x13285c190>, <datasketch.minhash.MinHash object at 0x13285c210>, <datasketch.minhash.MinHash object at 0x13285c290>, <datasketch.minhash.MinHash object at 0x13285c310>, <datasketch.minhash.MinHash object at 0x13285c390>, <datasketch.minhash.MinHash object at 0x13285c410>, <datasketch.minhash.MinHash object at 0x13285c490>, <datasketch.minhash.MinHash object at 0x13285c510>, <datasketch.minhash.MinHash object at 0x13285c590>, <datasketch.minhash.MinHash object at 0x13285c610>, <datasketch.minhash.MinHash object at 0x13285c690>, <datasketch.minhash.MinHash object at 0x13285c710>, <datasketch.minhash.MinHash object at 0x13285c790>, <datasketch.minhash.MinHash object at 0x13285c810>, <datasketch.minhash.MinHash object at 0x13285c890>, <datasketch.minhash.MinHash object at 0x13285c910>, <datasketch.minhash.MinHash object at 0x13285c990>, <datasketch.minhash.MinHash object at 0x13285ca10>, <datasketch.minhash.MinHash object at 0x13285ca90>, <datasketch.minhash.MinHash object at 0x13285cb10>, <datasketch.minhash.MinHash object at 0x13285cb90>, <datasketch.minhash.MinHash object at 0x13285cc10>, <datasketch.minhash.MinHash object at 0x13285cc90>, <datasketch.minhash.MinHash object at 0x13285cd10>, <datasketch.minhash.MinHash object at 0x13285cd90>, <datasketch.minhash.MinHash object at 0x13285ce10>, <datasketch.minhash.MinHash object at 0x13285ce90>, <datasketch.minhash.MinHash object at 0x13285cf10>, <datasketch.minhash.MinHash object at 0x13285cf90>, <datasketch.minhash.MinHash object at 0x13285d010>, <datasketch.minhash.MinHash object at 0x13285d090>, <datasketch.minhash.MinHash object at 0x13285d110>, <datasketch.minhash.MinHash object at 0x13285d190>, <datasketch.minhash.MinHash object at 0x13285d210>, <datasketch.minhash.MinHash object at 0x13285d290>, <datasketch.minhash.MinHash object at 0x13285d310>, <datasketch.minhash.MinHash object at 0x13285d390>, <datasketch.minhash.MinHash object at 0x13285d410>, <datasketch.minhash.MinHash object at 0x13285d490>, <datasketch.minhash.MinHash object at 0x13285d510>, <datasketch.minhash.MinHash object at 0x13285d590>, <datasketch.minhash.MinHash object at 0x13285d610>, <datasketch.minhash.MinHash object at 0x13285d690>, <datasketch.minhash.MinHash object at 0x13285d710>, <datasketch.minhash.MinHash object at 0x13285d790>, <datasketch.minhash.MinHash object at 0x13285d810>, <datasketch.minhash.MinHash object at 0x13285d890>, <datasketch.minhash.MinHash object at 0x13285d910>, <datasketch.minhash.MinHash object at 0x13285d990>, <datasketch.minhash.MinHash object at 0x13285da10>, <datasketch.minhash.MinHash object at 0x13285da90>, <datasketch.minhash.MinHash object at 0x13285db10>, <datasketch.minhash.MinHash object at 0x13285db90>, <datasketch.minhash.MinHash object at 0x13285dc10>, <datasketch.minhash.MinHash object at 0x13285dc90>, <datasketch.minhash.MinHash object at 0x13285dd10>, <datasketch.minhash.MinHash object at 0x13285dd90>, <datasketch.minhash.MinHash object at 0x13285de10>, <datasketch.minhash.MinHash object at 0x13285de90>, <datasketch.minhash.MinHash object at 0x13285df10>, <datasketch.minhash.MinHash object at 0x13285df90>, <datasketch.minhash.MinHash object at 0x13285e010>, <datasketch.minhash.MinHash object at 0x13285e090>, <datasketch.minhash.MinHash object at 0x13285e110>, <datasketch.minhash.MinHash object at 0x13285e190>, <datasketch.minhash.MinHash object at 0x13285e210>, <datasketch.minhash.MinHash object at 0x13285e290>, <datasketch.minhash.MinHash object at 0x13285e310>, <datasketch.minhash.MinHash object at 0x13285e390>, <datasketch.minhash.MinHash object at 0x13285e410>, <datasketch.minhash.MinHash object at 0x13285e490>, <datasketch.minhash.MinHash object at 0x13285e510>, <datasketch.minhash.MinHash object at 0x13285e590>, <datasketch.minhash.MinHash object at 0x13285e610>, <datasketch.minhash.MinHash object at 0x13285e690>, <datasketch.minhash.MinHash object at 0x13285e710>, <datasketch.minhash.MinHash object at 0x13285e790>, <datasketch.minhash.MinHash object at 0x13285e810>, <datasketch.minhash.MinHash object at 0x13285e890>, <datasketch.minhash.MinHash object at 0x13285e910>, <datasketch.minhash.MinHash object at 0x13285e990>, <datasketch.minhash.MinHash object at 0x13285ea10>, <datasketch.minhash.MinHash object at 0x13285ea90>, <datasketch.minhash.MinHash object at 0x13285eb10>, <datasketch.minhash.MinHash object at 0x13285eb90>, <datasketch.minhash.MinHash object at 0x13285ec10>, <datasketch.minhash.MinHash object at 0x13285ec90>, <datasketch.minhash.MinHash object at 0x13285ed10>, <datasketch.minhash.MinHash object at 0x13285ed90>, <datasketch.minhash.MinHash object at 0x13285ee10>, <datasketch.minhash.MinHash object at 0x13285ee90>, <datasketch.minhash.MinHash object at 0x13285ef10>, <datasketch.minhash.MinHash object at 0x13285ef90>, <datasketch.minhash.MinHash object at 0x13285f010>, <datasketch.minhash.MinHash object at 0x13285f090>, <datasketch.minhash.MinHash object at 0x13285f110>, <datasketch.minhash.MinHash object at 0x13285f190>, <datasketch.minhash.MinHash object at 0x13285f210>, <datasketch.minhash.MinHash object at 0x13285f290>, <datasketch.minhash.MinHash object at 0x13285f310>, <datasketch.minhash.MinHash object at 0x13285f390>, <datasketch.minhash.MinHash object at 0x13285f410>, <datasketch.minhash.MinHash object at 0x13285f490>, <datasketch.minhash.MinHash object at 0x13285f510>, <datasketch.minhash.MinHash object at 0x13285f590>, <datasketch.minhash.MinHash object at 0x13285f610>, <datasketch.minhash.MinHash object at 0x13285f690>, <datasketch.minhash.MinHash object at 0x13285f710>, <datasketch.minhash.MinHash object at 0x13285f790>, <datasketch.minhash.MinHash object at 0x13285f810>, <datasketch.minhash.MinHash object at 0x13285f890>, <datasketch.minhash.MinHash object at 0x13285f910>, <datasketch.minhash.MinHash object at 0x13285f990>, <datasketch.minhash.MinHash object at 0x13285fa10>, <datasketch.minhash.MinHash object at 0x13285fa90>, <datasketch.minhash.MinHash object at 0x13285fb10>, <datasketch.minhash.MinHash object at 0x13285fb90>, <datasketch.minhash.MinHash object at 0x13285fc10>, <datasketch.minhash.MinHash object at 0x13285fc90>, <datasketch.minhash.MinHash object at 0x13285fd10>, <datasketch.minhash.MinHash object at 0x13285fd90>, <datasketch.minhash.MinHash object at 0x13285fe10>, <datasketch.minhash.MinHash object at 0x13285fe90>, <datasketch.minhash.MinHash object at 0x13285ff10>, <datasketch.minhash.MinHash object at 0x13285ff90>, <datasketch.minhash.MinHash object at 0x13285ffd0>, <datasketch.minhash.MinHash object at 0x13286c090>, <datasketch.minhash.MinHash object at 0x13286c150>, <datasketch.minhash.MinHash object at 0x13286c1d0>, <datasketch.minhash.MinHash object at 0x13286c250>, <datasketch.minhash.MinHash object at 0x13286c2d0>, <datasketch.minhash.MinHash object at 0x13286c350>, <datasketch.minhash.MinHash object at 0x13286c3d0>, <datasketch.minhash.MinHash object at 0x13286c450>, <datasketch.minhash.MinHash object at 0x13286c4d0>, <datasketch.minhash.MinHash object at 0x13286c550>, <datasketch.minhash.MinHash object at 0x13286c5d0>, <datasketch.minhash.MinHash object at 0x13286c650>, <datasketch.minhash.MinHash object at 0x13286c6d0>, <datasketch.minhash.MinHash object at 0x13286c750>, <datasketch.minhash.MinHash object at 0x13286c7d0>, <datasketch.minhash.MinHash object at 0x13286c850>, <datasketch.minhash.MinHash object at 0x13286c8d0>, <datasketch.minhash.MinHash object at 0x13286c950>, <datasketch.minhash.MinHash object at 0x13286c9d0>, <datasketch.minhash.MinHash object at 0x13286ca50>, <datasketch.minhash.MinHash object at 0x13286cad0>, <datasketch.minhash.MinHash object at 0x13286cb50>, <datasketch.minhash.MinHash object at 0x13286cbd0>]\n",
      "It took 0.9211010932922363 seconds to build forest.\n"
     ]
    }
   ],
   "source": [
    "forest = get_lsh_forest(grouped_data, num_permutations, my_seed)"
   ]
  },
  {
   "cell_type": "code",
   "execution_count": 31,
   "metadata": {},
   "outputs": [
    {
     "name": "stdout",
     "output_type": "stream",
     "text": [
      "It took 0.0074880123138427734 seconds to query forest.\n",
      "\n",
      " Most similar User(s) are \n",
      "    userId                                              title\n",
      "0     578  [Sense and Sensibility (1995), Usual Suspects,...\n"
     ]
    }
   ],
   "source": [
    "test_user = ['Titanic (1997)'\n",
    "    'Toy Story (1995)',\n",
    "    'Inception (2010)',\n",
    "    'The Hunger Games (2012)',\n",
    "    'Ice Age 4: Continental Drift (2012)',\n",
    "    'Gone Girl (2014)',\n",
    "    'Harry Potter and the Deathly Hallows: Part 1 (2010)',\n",
    "    'Winnie the Pooh (2011)',\n",
    "    'Frozen (2013)']\n",
    "similar_users = predict(test_user, grouped_data, num_permutations, my_seed, num_recommendations, forest)\n",
    "print('\\n Most similar User(s) are \\n', similar_users)"
   ]
  },
  {
   "cell_type": "code",
   "execution_count": 43,
   "metadata": {},
   "outputs": [
    {
     "name": "stdout",
     "output_type": "stream",
     "text": [
      "It took 0.003210306167602539 seconds to query forest.\n",
      "\n",
      " Most similar User(s) are \n",
      "    userId                                              title\n",
      "0       1  [Dangerous Minds (1995), Dumbo (1941), Sleeper...\n",
      "1     290  [Dracula (Bram Stoker's Dracula) (1992), Star ...\n",
      "2      35  [Dumbo (1941), Tron (1982), Time Bandits (1981...\n",
      "3     325  [Dangerous Minds (1995), Sleepers (1996), Esca...\n",
      "4       9  [Antz (1998), Sense and Sensibility (1995), Se...\n",
      "5     618  [Dracula (Bram Stoker's Dracula) (1992), Usual...\n",
      "6     207  [Ben-Hur (1959), Dracula (Bram Stoker's Dracul...\n",
      "7     337  [Dracula (Bram Stoker's Dracula) (1992), Termi...\n",
      "8     310  [Dangerous Minds (1995), Dracula (Bram Stoker'...\n",
      "9     634  [Escape from New York (1981), Gandhi (1982), S...\n"
     ]
    }
   ],
   "source": [
    "# Test of validity of returned users by using an existing user as the basis for a test user\n",
    "first_user = ['Dangerous Minds (1995)', 'Dumbo (1941)', 'Sleepers (1996)', 'Escape from New York (1981)', 'Cinema Paradiso (Nuovo cinema Paradiso) (1989)', 'Deer Hunter, The (1978)', 'Ben-Hur (1959)', 'Gandhi (1982)', \"Dracula (Bram Stoker's Dracula) (1992)\", 'Cape Fear (1991)', 'Star Trek: The Motion Picture (1979)', 'Beavis and Butt-Head Do America (1996)', 'Tron (1982)', 'Willow (1988)', 'Antz (1998)', 'Fly, The (1986)']\n",
    "similar_users = predict(first_user, grouped_data, num_permutations, my_seed, num_recommendations, forest)\n",
    "print('\\n Most similar User(s) are \\n', similar_users)"
   ]
  },
  {
   "cell_type": "markdown",
   "metadata": {},
   "source": [
    "#### Return Top 10 popular movies based on similar users"
   ]
  },
  {
   "cell_type": "code",
   "execution_count": 47,
   "metadata": {},
   "outputs": [
    {
     "name": "stdout",
     "output_type": "stream",
     "text": [
      "Top 10 Ranked Remaining Movies:\n",
      "Rank 1: Ronin (1998) - Count: 4\n",
      "Rank 2: My Fair Lady (1964) - Count: 3\n",
      "Rank 3: Beverly Hills Cop (1984) - Count: 3\n",
      "Rank 4: Junior (1994) - Count: 3\n",
      "Rank 5: Seven (a.k.a. Se7en) (1995) - Count: 2\n",
      "Rank 6: Usual Suspects, The (1995) - Count: 2\n",
      "Rank 7: Star Wars: Episode IV - A New Hope (1977) - Count: 2\n",
      "Rank 8: Star Trek: Generations (1994) - Count: 2\n",
      "Rank 9: Godfather, The (1972) - Count: 2\n",
      "Rank 10: Star Trek VI: The Undiscovered Country (1991) - Count: 2\n"
     ]
    }
   ],
   "source": [
    "# Flatten the list of titles excluding movies seen by test user\n",
    "remaining_movie_titles = [movie for movies_list in similar_users['title'] for movie in movies_list if movie not in first_user]\n",
    "\n",
    "# Count the occurrences of each remaining movie title\n",
    "remaining_movie_counts = Counter(remaining_movie_titles)\n",
    "\n",
    "# Sort remaining movies based on counts in descending order\n",
    "sorted_remaining_movies = sorted(remaining_movie_counts.items(), key=lambda x: x[1], reverse=True)\n",
    "\n",
    "# Print the ranked top 10 remaining movies\n",
    "print(\"Top 10 Ranked Remaining Movies:\")\n",
    "for rank, (movie, count) in enumerate(sorted_remaining_movies[:10], start=1):\n",
    "    print(f\"Rank {rank}: {movie} - Count: {count}\")"
   ]
  },
  {
   "cell_type": "markdown",
   "metadata": {},
   "source": [
    "#### Encrypt movie names locally, then aggregate to compute ranking - diffferent results due to encryption/decryption"
   ]
  },
  {
   "cell_type": "code",
   "execution_count": 62,
   "metadata": {},
   "outputs": [
    {
     "name": "stdout",
     "output_type": "stream",
     "text": [
      "Top 10 Ranked Remaining Movies:\n",
      "Rank 1: GoldenEye (1995) - Count: 1\n",
      "Rank 2: Seven (a.k.a. Se7en) (1995) - Count: 1\n",
      "Rank 3: Usual Suspects, The (1995) - Count: 1\n",
      "Rank 4: Apollo 13 (1995) - Count: 1\n",
      "Rank 5: Die Hard: With a Vengeance (1995) - Count: 1\n",
      "Rank 6: Fugitive, The (1993) - Count: 1\n",
      "Rank 7: Aristocats, The (1970) - Count: 1\n",
      "Rank 8: Fahrenheit 9/11 (2004) - Count: 1\n",
      "Rank 9: Star Wars: Episode IV - A New Hope (1977) - Count: 1\n",
      "Rank 10: Star Trek: Generations (1994) - Count: 1\n"
     ]
    }
   ],
   "source": [
    "# Create a symmetric key for encryption and decryption\n",
    "key = Fernet.generate_key()\n",
    "cipher_suite = Fernet(key)\n",
    "\n",
    "# Encrypt the movie titles\n",
    "encrypted_movie_titles = [cipher_suite.encrypt(movie.encode()) for movies_list in similar_users['title'] for movie in movies_list if movie not in first_user]\n",
    "\n",
    "# Count the occurrences of each encrypted remaining movie title\n",
    "encrypted_movie_counts = Counter(encrypted_movie_titles)\n",
    "\n",
    "# Sort remaining movies based on counts in descending order\n",
    "sorted_remaining_movies = sorted(encrypted_movie_counts.items(), key=lambda x: x[1], reverse=True)\n",
    "\n",
    "# Decrypt the top 10 remaining movies and print the decrypted results\n",
    "print(\"Top 10 Ranked Remaining Movies:\")\n",
    "for rank, (encrypted_movie, count) in enumerate(sorted_remaining_movies[:10], start=1):\n",
    "    decrypted_movie = cipher_suite.decrypt(encrypted_movie).decode()\n",
    "    print(f\"Rank {rank}: {decrypted_movie} - Count: {count}\")"
   ]
  },
  {
   "cell_type": "code",
   "execution_count": 1,
   "metadata": {},
   "outputs": [
    {
     "name": "stderr",
     "output_type": "stream",
     "text": [
      "kj/filesystem-disk-unix.c++:1703: warning: PWD environment variable doesn't match current directory; pwd = /\n"
     ]
    },
    {
     "name": "stdout",
     "output_type": "stream",
     "text": [
      "✅ The installed version of syft==0.8.2b4 matches the requirement >=0.8.2b0 and the requirement <0.9\n"
     ]
    }
   ],
   "source": [
    "SYFT_VERSION = \">=0.8.2.b0,<0.9\"\n",
    "import syft as sy\n",
    "sy.requires(SYFT_VERSION)"
   ]
  },
  {
   "cell_type": "code",
   "execution_count": 2,
   "metadata": {},
   "outputs": [
    {
     "ename": "NameError",
     "evalue": "name 'NodeType' is not defined",
     "output_type": "error",
     "traceback": [
      "\u001b[0;31m---------------------------------------------------------------------------\u001b[0m",
      "\u001b[0;31mNameError\u001b[0m                                 Traceback (most recent call last)",
      "Cell \u001b[0;32mIn[2], line 1\u001b[0m\n\u001b[0;32m----> 1\u001b[0m node \u001b[39m=\u001b[39m sy\u001b[39m.\u001b[39morchestra\u001b[39m.\u001b[39mlaunch(name\u001b[39m=\u001b[39m\u001b[39m\"\u001b[39m\u001b[39mmy-domain\u001b[39m\u001b[39m\"\u001b[39m, port\u001b[39m=\u001b[39m\u001b[39m8080\u001b[39m, dev_mode\u001b[39m=\u001b[39m\u001b[39mTrue\u001b[39;00m, reset\u001b[39m=\u001b[39m\u001b[39mTrue\u001b[39;00m)\n",
      "File \u001b[0;32m~/anaconda3/lib/python3.11/site-packages/hagrid/orchestra.py:451\u001b[0m, in \u001b[0;36mOrchestra.launch\u001b[0;34m(name, node_type, deploy_to, node_side_type, port, processes, local_db, dev_mode, cmd, reset, tail, host, tag, verbose, render, enable_warnings)\u001b[0m\n\u001b[1;32m    447\u001b[0m         deploy_to \u001b[39m=\u001b[39m \u001b[39m\"\u001b[39m\u001b[39mpython\u001b[39m\u001b[39m\"\u001b[39m\n\u001b[1;32m    449\u001b[0m dev_mode \u001b[39m=\u001b[39m str_to_bool(os\u001b[39m.\u001b[39menviron\u001b[39m.\u001b[39mget(\u001b[39m\"\u001b[39m\u001b[39mDEV_MODE\u001b[39m\u001b[39m\"\u001b[39m, \u001b[39mf\u001b[39m\u001b[39m\"\u001b[39m\u001b[39m{\u001b[39;00mdev_mode\u001b[39m}\u001b[39;00m\u001b[39m\"\u001b[39m))\n\u001b[0;32m--> 451\u001b[0m node_type_enum: Optional[NodeType] \u001b[39m=\u001b[39m get_node_type(node_type\u001b[39m=\u001b[39mnode_type)\n\u001b[1;32m    452\u001b[0m \u001b[39mif\u001b[39;00m \u001b[39mnot\u001b[39;00m node_type_enum:\n\u001b[1;32m    453\u001b[0m     \u001b[39mreturn\u001b[39;00m \u001b[39mNone\u001b[39;00m\n",
      "File \u001b[0;32m~/anaconda3/lib/python3.11/site-packages/hagrid/orchestra.py:102\u001b[0m, in \u001b[0;36mget_node_type\u001b[0;34m(node_type)\u001b[0m\n\u001b[1;32m    100\u001b[0m \u001b[39mdef\u001b[39;00m \u001b[39mget_node_type\u001b[39m(node_type: Optional[Union[\u001b[39mstr\u001b[39m, NodeType]]) \u001b[39m-\u001b[39m\u001b[39m>\u001b[39m Optional[NodeType]:\n\u001b[1;32m    101\u001b[0m     \u001b[39mif\u001b[39;00m node_type \u001b[39mis\u001b[39;00m \u001b[39mNone\u001b[39;00m:\n\u001b[0;32m--> 102\u001b[0m         node_type \u001b[39m=\u001b[39m os\u001b[39m.\u001b[39menviron\u001b[39m.\u001b[39mget(\u001b[39m\"\u001b[39m\u001b[39mORCHESTRA_NODE_TYPE\u001b[39m\u001b[39m\"\u001b[39m, NodeType\u001b[39m.\u001b[39mDOMAIN)\n\u001b[1;32m    103\u001b[0m     \u001b[39mtry\u001b[39;00m:\n\u001b[1;32m    104\u001b[0m         \u001b[39mreturn\u001b[39;00m NodeType(node_type)\n",
      "\u001b[0;31mNameError\u001b[0m: name 'NodeType' is not defined"
     ]
    }
   ],
   "source": [
    "node = sy.orchestra.launch(name=\"my-domain\", port=8080, dev_mode=True, reset=True)"
   ]
  },
  {
   "cell_type": "code",
   "execution_count": 3,
   "metadata": {},
   "outputs": [
    {
     "name": "stderr",
     "output_type": "stream",
     "text": [
      "WARNING:urllib3.connectionpool:Retrying (Retry(total=2, connect=None, read=None, redirect=None, status=None)) after connection broken by 'NewConnectionError('<urllib3.connection.HTTPConnection object at 0x164477910>: Failed to establish a new connection: [Errno 61] Connection refused')': /api/v2/metadata\n",
      "WARNING:urllib3.connectionpool:Retrying (Retry(total=1, connect=None, read=None, redirect=None, status=None)) after connection broken by 'NewConnectionError('<urllib3.connection.HTTPConnection object at 0x164f47a90>: Failed to establish a new connection: [Errno 61] Connection refused')': /api/v2/metadata\n",
      "WARNING:urllib3.connectionpool:Retrying (Retry(total=0, connect=None, read=None, redirect=None, status=None)) after connection broken by 'NewConnectionError('<urllib3.connection.HTTPConnection object at 0x164f11290>: Failed to establish a new connection: [Errno 61] Connection refused')': /api/v2/metadata\n"
     ]
    },
    {
     "ename": "ConnectionError",
     "evalue": "HTTPConnectionPool(host='localhost', port=8080): Max retries exceeded with url: /api/v2/metadata (Caused by NewConnectionError('<urllib3.connection.HTTPConnection object at 0x164f12a50>: Failed to establish a new connection: [Errno 61] Connection refused'))",
     "output_type": "error",
     "traceback": [
      "\u001b[0;31m---------------------------------------------------------------------------\u001b[0m",
      "\u001b[0;31mConnectionRefusedError\u001b[0m                    Traceback (most recent call last)",
      "File \u001b[0;32m~/anaconda3/lib/python3.11/site-packages/urllib3/connection.py:174\u001b[0m, in \u001b[0;36mHTTPConnection._new_conn\u001b[0;34m(self)\u001b[0m\n\u001b[1;32m    173\u001b[0m \u001b[39mtry\u001b[39;00m:\n\u001b[0;32m--> 174\u001b[0m     conn \u001b[39m=\u001b[39m connection\u001b[39m.\u001b[39mcreate_connection(\n\u001b[1;32m    175\u001b[0m         (\u001b[39mself\u001b[39m\u001b[39m.\u001b[39m_dns_host, \u001b[39mself\u001b[39m\u001b[39m.\u001b[39mport), \u001b[39mself\u001b[39m\u001b[39m.\u001b[39mtimeout, \u001b[39m*\u001b[39m\u001b[39m*\u001b[39mextra_kw\n\u001b[1;32m    176\u001b[0m     )\n\u001b[1;32m    178\u001b[0m \u001b[39mexcept\u001b[39;00m SocketTimeout:\n",
      "File \u001b[0;32m~/anaconda3/lib/python3.11/site-packages/urllib3/util/connection.py:95\u001b[0m, in \u001b[0;36mcreate_connection\u001b[0;34m(address, timeout, source_address, socket_options)\u001b[0m\n\u001b[1;32m     94\u001b[0m \u001b[39mif\u001b[39;00m err \u001b[39mis\u001b[39;00m \u001b[39mnot\u001b[39;00m \u001b[39mNone\u001b[39;00m:\n\u001b[0;32m---> 95\u001b[0m     \u001b[39mraise\u001b[39;00m err\n\u001b[1;32m     97\u001b[0m \u001b[39mraise\u001b[39;00m socket\u001b[39m.\u001b[39merror(\u001b[39m\"\u001b[39m\u001b[39mgetaddrinfo returns an empty list\u001b[39m\u001b[39m\"\u001b[39m)\n",
      "File \u001b[0;32m~/anaconda3/lib/python3.11/site-packages/urllib3/util/connection.py:85\u001b[0m, in \u001b[0;36mcreate_connection\u001b[0;34m(address, timeout, source_address, socket_options)\u001b[0m\n\u001b[1;32m     84\u001b[0m     sock\u001b[39m.\u001b[39mbind(source_address)\n\u001b[0;32m---> 85\u001b[0m sock\u001b[39m.\u001b[39mconnect(sa)\n\u001b[1;32m     86\u001b[0m \u001b[39mreturn\u001b[39;00m sock\n",
      "File \u001b[0;32m~/anaconda3/lib/python3.11/site-packages/gevent/_socketcommon.py:607\u001b[0m, in \u001b[0;36mSocketMixin.connect\u001b[0;34m(self, address)\u001b[0m\n\u001b[1;32m    606\u001b[0m \u001b[39mif\u001b[39;00m err:\n\u001b[0;32m--> 607\u001b[0m     \u001b[39mraise\u001b[39;00m _SocketError(err, strerror(err))\n\u001b[1;32m    608\u001b[0m result \u001b[39m=\u001b[39m \u001b[39mself\u001b[39m\u001b[39m.\u001b[39m_sock\u001b[39m.\u001b[39mconnect_ex(address)\n",
      "\u001b[0;31mConnectionRefusedError\u001b[0m: [Errno 61] Connection refused",
      "\nDuring handling of the above exception, another exception occurred:\n",
      "\u001b[0;31mNewConnectionError\u001b[0m                        Traceback (most recent call last)",
      "File \u001b[0;32m~/anaconda3/lib/python3.11/site-packages/urllib3/connectionpool.py:714\u001b[0m, in \u001b[0;36mHTTPConnectionPool.urlopen\u001b[0;34m(self, method, url, body, headers, retries, redirect, assert_same_host, timeout, pool_timeout, release_conn, chunked, body_pos, **response_kw)\u001b[0m\n\u001b[1;32m    713\u001b[0m \u001b[39m# Make the request on the httplib connection object.\u001b[39;00m\n\u001b[0;32m--> 714\u001b[0m httplib_response \u001b[39m=\u001b[39m \u001b[39mself\u001b[39m\u001b[39m.\u001b[39m_make_request(\n\u001b[1;32m    715\u001b[0m     conn,\n\u001b[1;32m    716\u001b[0m     method,\n\u001b[1;32m    717\u001b[0m     url,\n\u001b[1;32m    718\u001b[0m     timeout\u001b[39m=\u001b[39mtimeout_obj,\n\u001b[1;32m    719\u001b[0m     body\u001b[39m=\u001b[39mbody,\n\u001b[1;32m    720\u001b[0m     headers\u001b[39m=\u001b[39mheaders,\n\u001b[1;32m    721\u001b[0m     chunked\u001b[39m=\u001b[39mchunked,\n\u001b[1;32m    722\u001b[0m )\n\u001b[1;32m    724\u001b[0m \u001b[39m# If we're going to release the connection in ``finally:``, then\u001b[39;00m\n\u001b[1;32m    725\u001b[0m \u001b[39m# the response doesn't need to know about the connection. Otherwise\u001b[39;00m\n\u001b[1;32m    726\u001b[0m \u001b[39m# it will also try to release it and we'll have a double-release\u001b[39;00m\n\u001b[1;32m    727\u001b[0m \u001b[39m# mess.\u001b[39;00m\n",
      "File \u001b[0;32m~/anaconda3/lib/python3.11/site-packages/urllib3/connectionpool.py:415\u001b[0m, in \u001b[0;36mHTTPConnectionPool._make_request\u001b[0;34m(self, conn, method, url, timeout, chunked, **httplib_request_kw)\u001b[0m\n\u001b[1;32m    414\u001b[0m     \u001b[39melse\u001b[39;00m:\n\u001b[0;32m--> 415\u001b[0m         conn\u001b[39m.\u001b[39mrequest(method, url, \u001b[39m*\u001b[39m\u001b[39m*\u001b[39mhttplib_request_kw)\n\u001b[1;32m    417\u001b[0m \u001b[39m# We are swallowing BrokenPipeError (errno.EPIPE) since the server is\u001b[39;00m\n\u001b[1;32m    418\u001b[0m \u001b[39m# legitimately able to close the connection after sending a valid response.\u001b[39;00m\n\u001b[1;32m    419\u001b[0m \u001b[39m# With this behaviour, the received response is still readable.\u001b[39;00m\n",
      "File \u001b[0;32m~/anaconda3/lib/python3.11/site-packages/urllib3/connection.py:244\u001b[0m, in \u001b[0;36mHTTPConnection.request\u001b[0;34m(self, method, url, body, headers)\u001b[0m\n\u001b[1;32m    243\u001b[0m     headers[\u001b[39m\"\u001b[39m\u001b[39mUser-Agent\u001b[39m\u001b[39m\"\u001b[39m] \u001b[39m=\u001b[39m _get_default_user_agent()\n\u001b[0;32m--> 244\u001b[0m \u001b[39msuper\u001b[39m(HTTPConnection, \u001b[39mself\u001b[39m)\u001b[39m.\u001b[39mrequest(method, url, body\u001b[39m=\u001b[39mbody, headers\u001b[39m=\u001b[39mheaders)\n",
      "File \u001b[0;32m~/anaconda3/lib/python3.11/http/client.py:1283\u001b[0m, in \u001b[0;36mHTTPConnection.request\u001b[0;34m(self, method, url, body, headers, encode_chunked)\u001b[0m\n\u001b[1;32m   1282\u001b[0m \u001b[39m\u001b[39m\u001b[39m\"\"\"Send a complete request to the server.\"\"\"\u001b[39;00m\n\u001b[0;32m-> 1283\u001b[0m \u001b[39mself\u001b[39m\u001b[39m.\u001b[39m_send_request(method, url, body, headers, encode_chunked)\n",
      "File \u001b[0;32m~/anaconda3/lib/python3.11/http/client.py:1329\u001b[0m, in \u001b[0;36mHTTPConnection._send_request\u001b[0;34m(self, method, url, body, headers, encode_chunked)\u001b[0m\n\u001b[1;32m   1328\u001b[0m     body \u001b[39m=\u001b[39m _encode(body, \u001b[39m'\u001b[39m\u001b[39mbody\u001b[39m\u001b[39m'\u001b[39m)\n\u001b[0;32m-> 1329\u001b[0m \u001b[39mself\u001b[39m\u001b[39m.\u001b[39mendheaders(body, encode_chunked\u001b[39m=\u001b[39mencode_chunked)\n",
      "File \u001b[0;32m~/anaconda3/lib/python3.11/http/client.py:1278\u001b[0m, in \u001b[0;36mHTTPConnection.endheaders\u001b[0;34m(self, message_body, encode_chunked)\u001b[0m\n\u001b[1;32m   1277\u001b[0m     \u001b[39mraise\u001b[39;00m CannotSendHeader()\n\u001b[0;32m-> 1278\u001b[0m \u001b[39mself\u001b[39m\u001b[39m.\u001b[39m_send_output(message_body, encode_chunked\u001b[39m=\u001b[39mencode_chunked)\n",
      "File \u001b[0;32m~/anaconda3/lib/python3.11/http/client.py:1038\u001b[0m, in \u001b[0;36mHTTPConnection._send_output\u001b[0;34m(self, message_body, encode_chunked)\u001b[0m\n\u001b[1;32m   1037\u001b[0m \u001b[39mdel\u001b[39;00m \u001b[39mself\u001b[39m\u001b[39m.\u001b[39m_buffer[:]\n\u001b[0;32m-> 1038\u001b[0m \u001b[39mself\u001b[39m\u001b[39m.\u001b[39msend(msg)\n\u001b[1;32m   1040\u001b[0m \u001b[39mif\u001b[39;00m message_body \u001b[39mis\u001b[39;00m \u001b[39mnot\u001b[39;00m \u001b[39mNone\u001b[39;00m:\n\u001b[1;32m   1041\u001b[0m \n\u001b[1;32m   1042\u001b[0m     \u001b[39m# create a consistent interface to message_body\u001b[39;00m\n",
      "File \u001b[0;32m~/anaconda3/lib/python3.11/http/client.py:976\u001b[0m, in \u001b[0;36mHTTPConnection.send\u001b[0;34m(self, data)\u001b[0m\n\u001b[1;32m    975\u001b[0m \u001b[39mif\u001b[39;00m \u001b[39mself\u001b[39m\u001b[39m.\u001b[39mauto_open:\n\u001b[0;32m--> 976\u001b[0m     \u001b[39mself\u001b[39m\u001b[39m.\u001b[39mconnect()\n\u001b[1;32m    977\u001b[0m \u001b[39melse\u001b[39;00m:\n",
      "File \u001b[0;32m~/anaconda3/lib/python3.11/site-packages/urllib3/connection.py:205\u001b[0m, in \u001b[0;36mHTTPConnection.connect\u001b[0;34m(self)\u001b[0m\n\u001b[1;32m    204\u001b[0m \u001b[39mdef\u001b[39;00m \u001b[39mconnect\u001b[39m(\u001b[39mself\u001b[39m):\n\u001b[0;32m--> 205\u001b[0m     conn \u001b[39m=\u001b[39m \u001b[39mself\u001b[39m\u001b[39m.\u001b[39m_new_conn()\n\u001b[1;32m    206\u001b[0m     \u001b[39mself\u001b[39m\u001b[39m.\u001b[39m_prepare_conn(conn)\n",
      "File \u001b[0;32m~/anaconda3/lib/python3.11/site-packages/urllib3/connection.py:186\u001b[0m, in \u001b[0;36mHTTPConnection._new_conn\u001b[0;34m(self)\u001b[0m\n\u001b[1;32m    185\u001b[0m \u001b[39mexcept\u001b[39;00m SocketError \u001b[39mas\u001b[39;00m e:\n\u001b[0;32m--> 186\u001b[0m     \u001b[39mraise\u001b[39;00m NewConnectionError(\n\u001b[1;32m    187\u001b[0m         \u001b[39mself\u001b[39m, \u001b[39m\"\u001b[39m\u001b[39mFailed to establish a new connection: \u001b[39m\u001b[39m%s\u001b[39;00m\u001b[39m\"\u001b[39m \u001b[39m%\u001b[39m e\n\u001b[1;32m    188\u001b[0m     )\n\u001b[1;32m    190\u001b[0m \u001b[39mreturn\u001b[39;00m conn\n",
      "\u001b[0;31mNewConnectionError\u001b[0m: <urllib3.connection.HTTPConnection object at 0x164f12a50>: Failed to establish a new connection: [Errno 61] Connection refused",
      "\nDuring handling of the above exception, another exception occurred:\n",
      "\u001b[0;31mMaxRetryError\u001b[0m                             Traceback (most recent call last)",
      "File \u001b[0;32m~/anaconda3/lib/python3.11/site-packages/requests/adapters.py:486\u001b[0m, in \u001b[0;36mHTTPAdapter.send\u001b[0;34m(self, request, stream, timeout, verify, cert, proxies)\u001b[0m\n\u001b[1;32m    485\u001b[0m \u001b[39mtry\u001b[39;00m:\n\u001b[0;32m--> 486\u001b[0m     resp \u001b[39m=\u001b[39m conn\u001b[39m.\u001b[39murlopen(\n\u001b[1;32m    487\u001b[0m         method\u001b[39m=\u001b[39mrequest\u001b[39m.\u001b[39mmethod,\n\u001b[1;32m    488\u001b[0m         url\u001b[39m=\u001b[39murl,\n\u001b[1;32m    489\u001b[0m         body\u001b[39m=\u001b[39mrequest\u001b[39m.\u001b[39mbody,\n\u001b[1;32m    490\u001b[0m         headers\u001b[39m=\u001b[39mrequest\u001b[39m.\u001b[39mheaders,\n\u001b[1;32m    491\u001b[0m         redirect\u001b[39m=\u001b[39m\u001b[39mFalse\u001b[39;00m,\n\u001b[1;32m    492\u001b[0m         assert_same_host\u001b[39m=\u001b[39m\u001b[39mFalse\u001b[39;00m,\n\u001b[1;32m    493\u001b[0m         preload_content\u001b[39m=\u001b[39m\u001b[39mFalse\u001b[39;00m,\n\u001b[1;32m    494\u001b[0m         decode_content\u001b[39m=\u001b[39m\u001b[39mFalse\u001b[39;00m,\n\u001b[1;32m    495\u001b[0m         retries\u001b[39m=\u001b[39m\u001b[39mself\u001b[39m\u001b[39m.\u001b[39mmax_retries,\n\u001b[1;32m    496\u001b[0m         timeout\u001b[39m=\u001b[39mtimeout,\n\u001b[1;32m    497\u001b[0m         chunked\u001b[39m=\u001b[39mchunked,\n\u001b[1;32m    498\u001b[0m     )\n\u001b[1;32m    500\u001b[0m \u001b[39mexcept\u001b[39;00m (ProtocolError, \u001b[39mOSError\u001b[39;00m) \u001b[39mas\u001b[39;00m err:\n",
      "File \u001b[0;32m~/anaconda3/lib/python3.11/site-packages/urllib3/connectionpool.py:826\u001b[0m, in \u001b[0;36mHTTPConnectionPool.urlopen\u001b[0;34m(self, method, url, body, headers, retries, redirect, assert_same_host, timeout, pool_timeout, release_conn, chunked, body_pos, **response_kw)\u001b[0m\n\u001b[1;32m    823\u001b[0m     log\u001b[39m.\u001b[39mwarning(\n\u001b[1;32m    824\u001b[0m         \u001b[39m\"\u001b[39m\u001b[39mRetrying (\u001b[39m\u001b[39m%r\u001b[39;00m\u001b[39m) after connection broken by \u001b[39m\u001b[39m'\u001b[39m\u001b[39m%r\u001b[39;00m\u001b[39m'\u001b[39m\u001b[39m: \u001b[39m\u001b[39m%s\u001b[39;00m\u001b[39m\"\u001b[39m, retries, err, url\n\u001b[1;32m    825\u001b[0m     )\n\u001b[0;32m--> 826\u001b[0m     \u001b[39mreturn\u001b[39;00m \u001b[39mself\u001b[39m\u001b[39m.\u001b[39murlopen(\n\u001b[1;32m    827\u001b[0m         method,\n\u001b[1;32m    828\u001b[0m         url,\n\u001b[1;32m    829\u001b[0m         body,\n\u001b[1;32m    830\u001b[0m         headers,\n\u001b[1;32m    831\u001b[0m         retries,\n\u001b[1;32m    832\u001b[0m         redirect,\n\u001b[1;32m    833\u001b[0m         assert_same_host,\n\u001b[1;32m    834\u001b[0m         timeout\u001b[39m=\u001b[39mtimeout,\n\u001b[1;32m    835\u001b[0m         pool_timeout\u001b[39m=\u001b[39mpool_timeout,\n\u001b[1;32m    836\u001b[0m         release_conn\u001b[39m=\u001b[39mrelease_conn,\n\u001b[1;32m    837\u001b[0m         chunked\u001b[39m=\u001b[39mchunked,\n\u001b[1;32m    838\u001b[0m         body_pos\u001b[39m=\u001b[39mbody_pos,\n\u001b[1;32m    839\u001b[0m         \u001b[39m*\u001b[39m\u001b[39m*\u001b[39mresponse_kw\n\u001b[1;32m    840\u001b[0m     )\n\u001b[1;32m    842\u001b[0m \u001b[39m# Handle redirect?\u001b[39;00m\n",
      "File \u001b[0;32m~/anaconda3/lib/python3.11/site-packages/urllib3/connectionpool.py:826\u001b[0m, in \u001b[0;36mHTTPConnectionPool.urlopen\u001b[0;34m(self, method, url, body, headers, retries, redirect, assert_same_host, timeout, pool_timeout, release_conn, chunked, body_pos, **response_kw)\u001b[0m\n\u001b[1;32m    823\u001b[0m     log\u001b[39m.\u001b[39mwarning(\n\u001b[1;32m    824\u001b[0m         \u001b[39m\"\u001b[39m\u001b[39mRetrying (\u001b[39m\u001b[39m%r\u001b[39;00m\u001b[39m) after connection broken by \u001b[39m\u001b[39m'\u001b[39m\u001b[39m%r\u001b[39;00m\u001b[39m'\u001b[39m\u001b[39m: \u001b[39m\u001b[39m%s\u001b[39;00m\u001b[39m\"\u001b[39m, retries, err, url\n\u001b[1;32m    825\u001b[0m     )\n\u001b[0;32m--> 826\u001b[0m     \u001b[39mreturn\u001b[39;00m \u001b[39mself\u001b[39m\u001b[39m.\u001b[39murlopen(\n\u001b[1;32m    827\u001b[0m         method,\n\u001b[1;32m    828\u001b[0m         url,\n\u001b[1;32m    829\u001b[0m         body,\n\u001b[1;32m    830\u001b[0m         headers,\n\u001b[1;32m    831\u001b[0m         retries,\n\u001b[1;32m    832\u001b[0m         redirect,\n\u001b[1;32m    833\u001b[0m         assert_same_host,\n\u001b[1;32m    834\u001b[0m         timeout\u001b[39m=\u001b[39mtimeout,\n\u001b[1;32m    835\u001b[0m         pool_timeout\u001b[39m=\u001b[39mpool_timeout,\n\u001b[1;32m    836\u001b[0m         release_conn\u001b[39m=\u001b[39mrelease_conn,\n\u001b[1;32m    837\u001b[0m         chunked\u001b[39m=\u001b[39mchunked,\n\u001b[1;32m    838\u001b[0m         body_pos\u001b[39m=\u001b[39mbody_pos,\n\u001b[1;32m    839\u001b[0m         \u001b[39m*\u001b[39m\u001b[39m*\u001b[39mresponse_kw\n\u001b[1;32m    840\u001b[0m     )\n\u001b[1;32m    842\u001b[0m \u001b[39m# Handle redirect?\u001b[39;00m\n",
      "File \u001b[0;32m~/anaconda3/lib/python3.11/site-packages/urllib3/connectionpool.py:826\u001b[0m, in \u001b[0;36mHTTPConnectionPool.urlopen\u001b[0;34m(self, method, url, body, headers, retries, redirect, assert_same_host, timeout, pool_timeout, release_conn, chunked, body_pos, **response_kw)\u001b[0m\n\u001b[1;32m    823\u001b[0m     log\u001b[39m.\u001b[39mwarning(\n\u001b[1;32m    824\u001b[0m         \u001b[39m\"\u001b[39m\u001b[39mRetrying (\u001b[39m\u001b[39m%r\u001b[39;00m\u001b[39m) after connection broken by \u001b[39m\u001b[39m'\u001b[39m\u001b[39m%r\u001b[39;00m\u001b[39m'\u001b[39m\u001b[39m: \u001b[39m\u001b[39m%s\u001b[39;00m\u001b[39m\"\u001b[39m, retries, err, url\n\u001b[1;32m    825\u001b[0m     )\n\u001b[0;32m--> 826\u001b[0m     \u001b[39mreturn\u001b[39;00m \u001b[39mself\u001b[39m\u001b[39m.\u001b[39murlopen(\n\u001b[1;32m    827\u001b[0m         method,\n\u001b[1;32m    828\u001b[0m         url,\n\u001b[1;32m    829\u001b[0m         body,\n\u001b[1;32m    830\u001b[0m         headers,\n\u001b[1;32m    831\u001b[0m         retries,\n\u001b[1;32m    832\u001b[0m         redirect,\n\u001b[1;32m    833\u001b[0m         assert_same_host,\n\u001b[1;32m    834\u001b[0m         timeout\u001b[39m=\u001b[39mtimeout,\n\u001b[1;32m    835\u001b[0m         pool_timeout\u001b[39m=\u001b[39mpool_timeout,\n\u001b[1;32m    836\u001b[0m         release_conn\u001b[39m=\u001b[39mrelease_conn,\n\u001b[1;32m    837\u001b[0m         chunked\u001b[39m=\u001b[39mchunked,\n\u001b[1;32m    838\u001b[0m         body_pos\u001b[39m=\u001b[39mbody_pos,\n\u001b[1;32m    839\u001b[0m         \u001b[39m*\u001b[39m\u001b[39m*\u001b[39mresponse_kw\n\u001b[1;32m    840\u001b[0m     )\n\u001b[1;32m    842\u001b[0m \u001b[39m# Handle redirect?\u001b[39;00m\n",
      "File \u001b[0;32m~/anaconda3/lib/python3.11/site-packages/urllib3/connectionpool.py:798\u001b[0m, in \u001b[0;36mHTTPConnectionPool.urlopen\u001b[0;34m(self, method, url, body, headers, retries, redirect, assert_same_host, timeout, pool_timeout, release_conn, chunked, body_pos, **response_kw)\u001b[0m\n\u001b[1;32m    796\u001b[0m     e \u001b[39m=\u001b[39m ProtocolError(\u001b[39m\"\u001b[39m\u001b[39mConnection aborted.\u001b[39m\u001b[39m\"\u001b[39m, e)\n\u001b[0;32m--> 798\u001b[0m retries \u001b[39m=\u001b[39m retries\u001b[39m.\u001b[39mincrement(\n\u001b[1;32m    799\u001b[0m     method, url, error\u001b[39m=\u001b[39me, _pool\u001b[39m=\u001b[39m\u001b[39mself\u001b[39m, _stacktrace\u001b[39m=\u001b[39msys\u001b[39m.\u001b[39mexc_info()[\u001b[39m2\u001b[39m]\n\u001b[1;32m    800\u001b[0m )\n\u001b[1;32m    801\u001b[0m retries\u001b[39m.\u001b[39msleep()\n",
      "File \u001b[0;32m~/anaconda3/lib/python3.11/site-packages/urllib3/util/retry.py:592\u001b[0m, in \u001b[0;36mRetry.increment\u001b[0;34m(self, method, url, response, error, _pool, _stacktrace)\u001b[0m\n\u001b[1;32m    591\u001b[0m \u001b[39mif\u001b[39;00m new_retry\u001b[39m.\u001b[39mis_exhausted():\n\u001b[0;32m--> 592\u001b[0m     \u001b[39mraise\u001b[39;00m MaxRetryError(_pool, url, error \u001b[39mor\u001b[39;00m ResponseError(cause))\n\u001b[1;32m    594\u001b[0m log\u001b[39m.\u001b[39mdebug(\u001b[39m\"\u001b[39m\u001b[39mIncremented Retry for (url=\u001b[39m\u001b[39m'\u001b[39m\u001b[39m%s\u001b[39;00m\u001b[39m'\u001b[39m\u001b[39m): \u001b[39m\u001b[39m%r\u001b[39;00m\u001b[39m\"\u001b[39m, url, new_retry)\n",
      "\u001b[0;31mMaxRetryError\u001b[0m: HTTPConnectionPool(host='localhost', port=8080): Max retries exceeded with url: /api/v2/metadata (Caused by NewConnectionError('<urllib3.connection.HTTPConnection object at 0x164f12a50>: Failed to establish a new connection: [Errno 61] Connection refused'))",
      "\nDuring handling of the above exception, another exception occurred:\n",
      "\u001b[0;31mConnectionError\u001b[0m                           Traceback (most recent call last)",
      "Cell \u001b[0;32mIn[3], line 1\u001b[0m\n\u001b[0;32m----> 1\u001b[0m domain_client \u001b[39m=\u001b[39m sy\u001b[39m.\u001b[39mlogin(port\u001b[39m=\u001b[39m\u001b[39m8080\u001b[39m, email\u001b[39m=\u001b[39m\u001b[39m\"\u001b[39m\u001b[39minfo@openmined.org\u001b[39m\u001b[39m\"\u001b[39m, password\u001b[39m=\u001b[39m\u001b[39m\"\u001b[39m\u001b[39mchangethis\u001b[39m\u001b[39m\"\u001b[39m)\n",
      "File \u001b[0;32m~/anaconda3/lib/python3.11/site-packages/syft/client/client.py:757\u001b[0m, in \u001b[0;36mlogin\u001b[0;34m(url, node, port, email, password, cache, verbose)\u001b[0m\n\u001b[1;32m    747\u001b[0m \u001b[39m@instrument\u001b[39m\n\u001b[1;32m    748\u001b[0m \u001b[39mdef\u001b[39;00m \u001b[39mlogin\u001b[39m(\n\u001b[1;32m    749\u001b[0m     url: Union[\u001b[39mstr\u001b[39m, GridURL] \u001b[39m=\u001b[39m DEFAULT_PYGRID_ADDRESS,\n\u001b[0;32m   (...)\u001b[0m\n\u001b[1;32m    755\u001b[0m     verbose: \u001b[39mbool\u001b[39m \u001b[39m=\u001b[39m \u001b[39mTrue\u001b[39;00m,\n\u001b[1;32m    756\u001b[0m ) \u001b[39m-\u001b[39m\u001b[39m>\u001b[39m SyftClient:\n\u001b[0;32m--> 757\u001b[0m     _client \u001b[39m=\u001b[39m connect(url\u001b[39m=\u001b[39murl, node\u001b[39m=\u001b[39mnode, port\u001b[39m=\u001b[39mport)\n\u001b[1;32m    758\u001b[0m     \u001b[39mif\u001b[39;00m \u001b[39misinstance\u001b[39m(_client, SyftError):\n\u001b[1;32m    759\u001b[0m         \u001b[39mreturn\u001b[39;00m _client\n",
      "File \u001b[0;32m~/anaconda3/lib/python3.11/site-packages/syft/client/client.py:719\u001b[0m, in \u001b[0;36mconnect\u001b[0;34m(url, node, port)\u001b[0m\n\u001b[1;32m    716\u001b[0m         url\u001b[39m.\u001b[39mset_port(\u001b[39mint\u001b[39m(port))\n\u001b[1;32m    717\u001b[0m     connection \u001b[39m=\u001b[39m HTTPConnection(url\u001b[39m=\u001b[39murl)\n\u001b[0;32m--> 719\u001b[0m client_type \u001b[39m=\u001b[39m connection\u001b[39m.\u001b[39mget_client_type()\n\u001b[1;32m    721\u001b[0m \u001b[39mif\u001b[39;00m \u001b[39misinstance\u001b[39m(client_type, SyftError):\n\u001b[1;32m    722\u001b[0m     \u001b[39mreturn\u001b[39;00m client_type\n",
      "File \u001b[0;32m~/anaconda3/lib/python3.11/site-packages/syft/client/client.py:293\u001b[0m, in \u001b[0;36mHTTPConnection.get_client_type\u001b[0;34m(self)\u001b[0m\n\u001b[1;32m    290\u001b[0m \u001b[39mfrom\u001b[39;00m \u001b[39m.\u001b[39;00m\u001b[39menclave_client\u001b[39;00m \u001b[39mimport\u001b[39;00m EnclaveClient\n\u001b[1;32m    291\u001b[0m \u001b[39mfrom\u001b[39;00m \u001b[39m.\u001b[39;00m\u001b[39mgateway_client\u001b[39;00m \u001b[39mimport\u001b[39;00m GatewayClient\n\u001b[0;32m--> 293\u001b[0m metadata \u001b[39m=\u001b[39m \u001b[39mself\u001b[39m\u001b[39m.\u001b[39mget_node_metadata(credentials\u001b[39m=\u001b[39mSyftSigningKey\u001b[39m.\u001b[39mgenerate())\n\u001b[1;32m    294\u001b[0m \u001b[39mif\u001b[39;00m metadata\u001b[39m.\u001b[39mnode_type \u001b[39m==\u001b[39m NodeType\u001b[39m.\u001b[39mDOMAIN\u001b[39m.\u001b[39mvalue:\n\u001b[1;32m    295\u001b[0m     \u001b[39mreturn\u001b[39;00m DomainClient\n",
      "File \u001b[0;32m~/anaconda3/lib/python3.11/site-packages/syft/client/client.py:204\u001b[0m, in \u001b[0;36mHTTPConnection.get_node_metadata\u001b[0;34m(self, credentials)\u001b[0m\n\u001b[1;32m    202\u001b[0m     \u001b[39mreturn\u001b[39;00m response\n\u001b[1;32m    203\u001b[0m \u001b[39melse\u001b[39;00m:\n\u001b[0;32m--> 204\u001b[0m     response \u001b[39m=\u001b[39m \u001b[39mself\u001b[39m\u001b[39m.\u001b[39m_make_get(\u001b[39mself\u001b[39m\u001b[39m.\u001b[39mroutes\u001b[39m.\u001b[39mROUTE_METADATA\u001b[39m.\u001b[39mvalue)\n\u001b[1;32m    205\u001b[0m     metadata_json \u001b[39m=\u001b[39m json\u001b[39m.\u001b[39mloads(response)\n\u001b[1;32m    206\u001b[0m     \u001b[39mreturn\u001b[39;00m NodeMetadataJSON(\u001b[39m*\u001b[39m\u001b[39m*\u001b[39mmetadata_json)\n",
      "File \u001b[0;32m~/anaconda3/lib/python3.11/site-packages/syft/client/client.py:161\u001b[0m, in \u001b[0;36mHTTPConnection._make_get\u001b[0;34m(self, path, params)\u001b[0m\n\u001b[1;32m    159\u001b[0m \u001b[39mdef\u001b[39;00m \u001b[39m_make_get\u001b[39m(\u001b[39mself\u001b[39m, path: \u001b[39mstr\u001b[39m, params: Optional[Dict] \u001b[39m=\u001b[39m \u001b[39mNone\u001b[39;00m) \u001b[39m-\u001b[39m\u001b[39m>\u001b[39m \u001b[39mbytes\u001b[39m:\n\u001b[1;32m    160\u001b[0m     url \u001b[39m=\u001b[39m \u001b[39mself\u001b[39m\u001b[39m.\u001b[39murl\u001b[39m.\u001b[39mwith_path(path)\n\u001b[0;32m--> 161\u001b[0m     response \u001b[39m=\u001b[39m \u001b[39mself\u001b[39m\u001b[39m.\u001b[39msession\u001b[39m.\u001b[39mget(\n\u001b[1;32m    162\u001b[0m         \u001b[39mstr\u001b[39m(url), verify\u001b[39m=\u001b[39mverify_tls(), proxies\u001b[39m=\u001b[39m{}, params\u001b[39m=\u001b[39mparams\n\u001b[1;32m    163\u001b[0m     )\n\u001b[1;32m    164\u001b[0m     \u001b[39mif\u001b[39;00m response\u001b[39m.\u001b[39mstatus_code \u001b[39m!=\u001b[39m \u001b[39m200\u001b[39m:\n\u001b[1;32m    165\u001b[0m         \u001b[39mraise\u001b[39;00m requests\u001b[39m.\u001b[39mConnectionError(\n\u001b[1;32m    166\u001b[0m             \u001b[39mf\u001b[39m\u001b[39m\"\u001b[39m\u001b[39mFailed to fetch \u001b[39m\u001b[39m{\u001b[39;00murl\u001b[39m}\u001b[39;00m\u001b[39m. Response returned with code \u001b[39m\u001b[39m{\u001b[39;00mresponse\u001b[39m.\u001b[39mstatus_code\u001b[39m}\u001b[39;00m\u001b[39m\"\u001b[39m\n\u001b[1;32m    167\u001b[0m         )\n",
      "File \u001b[0;32m~/anaconda3/lib/python3.11/site-packages/requests/sessions.py:602\u001b[0m, in \u001b[0;36mSession.get\u001b[0;34m(self, url, **kwargs)\u001b[0m\n\u001b[1;32m    594\u001b[0m \u001b[39m\u001b[39m\u001b[39mr\u001b[39m\u001b[39m\"\"\"Sends a GET request. Returns :class:`Response` object.\u001b[39;00m\n\u001b[1;32m    595\u001b[0m \n\u001b[1;32m    596\u001b[0m \u001b[39m:param url: URL for the new :class:`Request` object.\u001b[39;00m\n\u001b[1;32m    597\u001b[0m \u001b[39m:param \\*\\*kwargs: Optional arguments that ``request`` takes.\u001b[39;00m\n\u001b[1;32m    598\u001b[0m \u001b[39m:rtype: requests.Response\u001b[39;00m\n\u001b[1;32m    599\u001b[0m \u001b[39m\"\"\"\u001b[39;00m\n\u001b[1;32m    601\u001b[0m kwargs\u001b[39m.\u001b[39msetdefault(\u001b[39m\"\u001b[39m\u001b[39mallow_redirects\u001b[39m\u001b[39m\"\u001b[39m, \u001b[39mTrue\u001b[39;00m)\n\u001b[0;32m--> 602\u001b[0m \u001b[39mreturn\u001b[39;00m \u001b[39mself\u001b[39m\u001b[39m.\u001b[39mrequest(\u001b[39m\"\u001b[39m\u001b[39mGET\u001b[39m\u001b[39m\"\u001b[39m, url, \u001b[39m*\u001b[39m\u001b[39m*\u001b[39mkwargs)\n",
      "File \u001b[0;32m~/anaconda3/lib/python3.11/site-packages/requests/sessions.py:589\u001b[0m, in \u001b[0;36mSession.request\u001b[0;34m(self, method, url, params, data, headers, cookies, files, auth, timeout, allow_redirects, proxies, hooks, stream, verify, cert, json)\u001b[0m\n\u001b[1;32m    584\u001b[0m send_kwargs \u001b[39m=\u001b[39m {\n\u001b[1;32m    585\u001b[0m     \u001b[39m\"\u001b[39m\u001b[39mtimeout\u001b[39m\u001b[39m\"\u001b[39m: timeout,\n\u001b[1;32m    586\u001b[0m     \u001b[39m\"\u001b[39m\u001b[39mallow_redirects\u001b[39m\u001b[39m\"\u001b[39m: allow_redirects,\n\u001b[1;32m    587\u001b[0m }\n\u001b[1;32m    588\u001b[0m send_kwargs\u001b[39m.\u001b[39mupdate(settings)\n\u001b[0;32m--> 589\u001b[0m resp \u001b[39m=\u001b[39m \u001b[39mself\u001b[39m\u001b[39m.\u001b[39msend(prep, \u001b[39m*\u001b[39m\u001b[39m*\u001b[39msend_kwargs)\n\u001b[1;32m    591\u001b[0m \u001b[39mreturn\u001b[39;00m resp\n",
      "File \u001b[0;32m~/anaconda3/lib/python3.11/site-packages/requests/sessions.py:703\u001b[0m, in \u001b[0;36mSession.send\u001b[0;34m(self, request, **kwargs)\u001b[0m\n\u001b[1;32m    700\u001b[0m start \u001b[39m=\u001b[39m preferred_clock()\n\u001b[1;32m    702\u001b[0m \u001b[39m# Send the request\u001b[39;00m\n\u001b[0;32m--> 703\u001b[0m r \u001b[39m=\u001b[39m adapter\u001b[39m.\u001b[39msend(request, \u001b[39m*\u001b[39m\u001b[39m*\u001b[39mkwargs)\n\u001b[1;32m    705\u001b[0m \u001b[39m# Total elapsed time of the request (approximately)\u001b[39;00m\n\u001b[1;32m    706\u001b[0m elapsed \u001b[39m=\u001b[39m preferred_clock() \u001b[39m-\u001b[39m start\n",
      "File \u001b[0;32m~/anaconda3/lib/python3.11/site-packages/requests/adapters.py:519\u001b[0m, in \u001b[0;36mHTTPAdapter.send\u001b[0;34m(self, request, stream, timeout, verify, cert, proxies)\u001b[0m\n\u001b[1;32m    515\u001b[0m     \u001b[39mif\u001b[39;00m \u001b[39misinstance\u001b[39m(e\u001b[39m.\u001b[39mreason, _SSLError):\n\u001b[1;32m    516\u001b[0m         \u001b[39m# This branch is for urllib3 v1.22 and later.\u001b[39;00m\n\u001b[1;32m    517\u001b[0m         \u001b[39mraise\u001b[39;00m SSLError(e, request\u001b[39m=\u001b[39mrequest)\n\u001b[0;32m--> 519\u001b[0m     \u001b[39mraise\u001b[39;00m \u001b[39mConnectionError\u001b[39;00m(e, request\u001b[39m=\u001b[39mrequest)\n\u001b[1;32m    521\u001b[0m \u001b[39mexcept\u001b[39;00m ClosedPoolError \u001b[39mas\u001b[39;00m e:\n\u001b[1;32m    522\u001b[0m     \u001b[39mraise\u001b[39;00m \u001b[39mConnectionError\u001b[39;00m(e, request\u001b[39m=\u001b[39mrequest)\n",
      "\u001b[0;31mConnectionError\u001b[0m: HTTPConnectionPool(host='localhost', port=8080): Max retries exceeded with url: /api/v2/metadata (Caused by NewConnectionError('<urllib3.connection.HTTPConnection object at 0x164f12a50>: Failed to establish a new connection: [Errno 61] Connection refused'))"
     ]
    }
   ],
   "source": [
    "domain_client = sy.login(port=8080, email=\"info@openmined.org\", password=\"changethis\")"
   ]
  }
 ],
 "metadata": {
  "kernelspec": {
   "display_name": "base",
   "language": "python",
   "name": "python3"
  },
  "language_info": {
   "codemirror_mode": {
    "name": "ipython",
    "version": 3
   },
   "file_extension": ".py",
   "mimetype": "text/x-python",
   "name": "python",
   "nbconvert_exporter": "python",
   "pygments_lexer": "ipython3",
   "version": "3.11.3"
  },
  "orig_nbformat": 4
 },
 "nbformat": 4,
 "nbformat_minor": 2
}
