{
 "cells": [
  {
   "cell_type": "code",
   "execution_count": 1,
   "metadata": {},
   "outputs": [],
   "source": [
    "import numpy as np\n",
    "import pandas as pd\n",
    "from collections import defaultdict"
   ]
  },
  {
   "cell_type": "markdown",
   "metadata": {},
   "source": [
    "Data Preparation"
   ]
  },
  {
   "cell_type": "code",
   "execution_count": 19,
   "metadata": {},
   "outputs": [
    {
     "name": "stdout",
     "output_type": "stream",
     "text": [
      "[[1. 1. 1. ... 0. 0. 0.]\n",
      " [0. 0. 0. ... 0. 0. 0.]\n",
      " [0. 0. 0. ... 0. 0. 0.]\n",
      " ...\n",
      " [0. 0. 0. ... 0. 0. 0.]\n",
      " [0. 0. 0. ... 0. 0. 0.]\n",
      " [0. 0. 0. ... 0. 0. 0.]]\n",
      "Size of user-movie matrix: (671, 9066)\n"
     ]
    }
   ],
   "source": [
    "# Load ratings data\n",
    "ratings_data = pd.read_csv(\"/Users/yushiyang/desktop/RecSys-Materials/ml-latest-small/ratings.csv\")\n",
    "\n",
    "# Identify unique users and movies\n",
    "unique_users = ratings_data['userId'].unique()\n",
    "unique_movies = ratings_data['movieId'].unique()\n",
    "\n",
    "# Create a user-movie matrix\n",
    "user_movie_matrix = np.zeros((len(unique_users), len(unique_movies)))\n",
    "\n",
    "# Fill the user-movie matrix\n",
    "for _, row in ratings_data.iterrows():\n",
    "    user_idx = np.where(unique_users == row['userId'])[0][0]\n",
    "    movie_idx = np.where(unique_movies == row['movieId'])[0][0]\n",
    "    user_movie_matrix[user_idx, movie_idx] = 1\n",
    "\n",
    "print(user_movie_matrix)\n",
    "print(\"Size of user-movie matrix:\", user_movie_matrix.shape)"
   ]
  },
  {
   "cell_type": "markdown",
   "metadata": {},
   "source": [
    "Implement Minhash from scratch"
   ]
  },
  {
   "cell_type": "code",
   "execution_count": 20,
   "metadata": {},
   "outputs": [],
   "source": [
    "# Generates a list of random hash functions, each represented by a pair (a, b)\n",
    "# Allow seed setting to recreate the hash functions/permutations\n",
    "def generate_hash_functions(num_perm, seed=None):\n",
    "    if seed is not None:\n",
    "        np.random.seed(seed)  # Set the seed for the random number generator\n",
    "    hash_functions = []\n",
    "    for _ in range(num_perm):\n",
    "        a = np.random.randint(1, 2**32 - 1)  # Generate a random 'a' value\n",
    "        b = np.random.randint(0, 2**32 - 1)  # Generate a random 'b' value\n",
    "        hash_functions.append((a, b))  # Append the hash function parameters to the list\n",
    "    return hash_functions\n",
    "\n",
    "# Computes MinHash values for a given vector using a list of hash functions\n",
    "def Minhash(vector, hash_functions):\n",
    "    minhash_values = []\n",
    "    for a, b in hash_functions:  # Iterate through all hash functions (permutations)\n",
    "        min_hash = float('inf')  # Set the initial min_hash to positive infinity\n",
    "        for idx, value in enumerate(vector):\n",
    "            if value == 1:  # If the value is 1 (indicating the presence of an item)\n",
    "                hash_val = (a * idx + b) % len(vector)  # Compute the hash value (use a simple hash function for randomisation)\n",
    "                min_hash = min(min_hash, hash_val)\n",
    "        minhash_values.append(min_hash)  # Append the computed min_hash value to the list\n",
    "    return minhash_values"
   ]
  },
  {
   "cell_type": "markdown",
   "metadata": {},
   "source": [
    "Implement LSH from scratch"
   ]
  },
  {
   "cell_type": "code",
   "execution_count": 22,
   "metadata": {},
   "outputs": [],
   "source": [
    "class LSH:\n",
    "    def __init__(self, num_bands, band_size):\n",
    "        self.num_bands = num_bands  # Number of bands for LSH\n",
    "        self.band_size = band_size  # Number of rows in each band\n",
    "        self.buckets = defaultdict(set)  # Dictionary to store buckets\n",
    "    \n",
    "    def hash_band(self, band):\n",
    "        return hash(tuple(band))  # Generate a hash value for a band (simple hash function)\n",
    "    \n",
    "    def insert(self, user_id, minhash):\n",
    "        for i in range(0, num_perm, self.band_size):  # Iterate through the permutations in bands\n",
    "            band = minhash[i:i+self.band_size]  # Extract a band of MinHash values\n",
    "            band_hash = self.hash_band(band)  # Hash the band\n",
    "            self.buckets[band_hash].add(user_id)  # Add user to the corresponding bucket\n",
    "    \n",
    "    def query(self, minhash_query):\n",
    "        similar_users = set()\n",
    "        for i in range(0, num_perm, self.band_size):  # Iterate through the permutations in bands\n",
    "            band = minhash_query[i:i+self.band_size]  # Extract a band from the query MinHash\n",
    "            band_hash = self.hash_band(band)  # Hash the band\n",
    "            similar_users.update(self.buckets[band_hash])  # Update similar users from the corresponding bucket\n",
    "        return similar_users"
   ]
  },
  {
   "cell_type": "code",
   "execution_count": 23,
   "metadata": {},
   "outputs": [
    {
     "name": "stdout",
     "output_type": "stream",
     "text": [
      "[1 0 0 ... 0 1 1]\n"
     ]
    }
   ],
   "source": [
    "# Define the length of the user vector\n",
    "vector_length = 9066 # Number of movies\n",
    "\n",
    "# Generate a random user vector with 0s and 1s\n",
    "random_user_vector = np.random.randint(2, size=vector_length)\n",
    "print(random_user_vector)"
   ]
  },
  {
   "cell_type": "markdown",
   "metadata": {},
   "source": [
    "Compute minhash vectors for all users - much slower than datasketch library implementation"
   ]
  },
  {
   "cell_type": "code",
   "execution_count": 25,
   "metadata": {},
   "outputs": [
    {
     "name": "stdout",
     "output_type": "stream",
     "text": [
      "[660, 35, 641, 82, 74, 424, 26, 196, 372, 573, 69, 161, 78, 135, 77, 1192, 927, 135, 309, 530, 197, 145, 319, 183, 88, 465, 188, 245, 463, 167, 441, 177, 348, 213, 61, 206, 372, 125, 426, 692, 2, 490, 176, 495, 103, 57, 210, 7, 528, 458, 196, 202, 266, 970, 445, 187, 50, 51, 823, 576, 1279, 334, 299, 191, 75, 466, 467, 216, 411, 574, 94, 65, 579, 2139, 407, 93, 294, 108, 861, 434, 70, 298, 250, 901, 29, 651, 225, 651, 1516, 30, 1176, 1026, 457, 430, 2536, 22, 199, 777, 315, 52, 70, 624, 249, 1279, 9, 306, 156, 490, 84, 343, 1966, 275, 8, 75, 1160, 39, 962, 327, 86, 549, 435, 1774, 248, 712, 361, 964, 225, 698] 671\n"
     ]
    }
   ],
   "source": [
    "num_perm = 128  # Number of permutation functions\n",
    "hash_functions = generate_hash_functions(num_perm, seed=100)  # Generate a list of random hash functions (the same across all users)\n",
    "\n",
    "# Compute MinHash values for each user\n",
    "all_minhashes_for_users = []\n",
    "for user_vector in user_movie_matrix:\n",
    "    one_user_minhash = Minhash(user_vector, hash_functions)\n",
    "    all_minhashes_for_users.append(one_user_minhash)\n",
    "\n",
    "print(all_minhashes_for_users[0], len(all_minhashes_for_users))"
   ]
  },
  {
   "cell_type": "code",
   "execution_count": 24,
   "metadata": {},
   "outputs": [
    {
     "name": "stdout",
     "output_type": "stream",
     "text": [
      "{'563', '29', '14', '623', '546'}\n"
     ]
    }
   ],
   "source": [
    "# Compute MinHash values for the user vector\n",
    "minhash_query = Minhash(random_user_vector, hash_functions)\n",
    "\n",
    "# Create an LSH index\n",
    "num_bands = 32  # Number of bands for LSH\n",
    "band_size = num_perm // num_bands  # The smaller, more objects in the same bucket\n",
    "lsh = LSH(num_bands, band_size)  # Create an LSH object\n",
    "\n",
    "# Insert MinHashes into the LSH index\n",
    "for idx, minhash in enumerate(all_minhashes_for_users):  # Loop through each MinHash signature\n",
    "    lsh.insert(str(idx), minhash)  # Insert the MinHash signature into the LSH index\n",
    "\n",
    "# Query LSH to find similar users\n",
    "similar_users = lsh.query(minhash_query)  # Query for similar users based on a query MinHash signature\n",
    "print(similar_users)"
   ]
  }
 ],
 "metadata": {
  "kernelspec": {
   "display_name": "Python 3",
   "language": "python",
   "name": "python3"
  },
  "language_info": {
   "codemirror_mode": {
    "name": "ipython",
    "version": 3
   },
   "file_extension": ".py",
   "mimetype": "text/x-python",
   "name": "python",
   "nbconvert_exporter": "python",
   "pygments_lexer": "ipython3",
   "version": "3.11.3"
  },
  "orig_nbformat": 4
 },
 "nbformat": 4,
 "nbformat_minor": 2
}
